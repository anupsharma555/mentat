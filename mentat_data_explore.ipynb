{
 "cells": [
  {
   "cell_type": "code",
   "execution_count": 10,
   "id": "3653aa7f",
   "metadata": {},
   "outputs": [
    {
     "name": "stdout",
     "output_type": "stream",
     "text": [
      "Decrypted CSV already exists.\n"
     ]
    }
   ],
   "source": [
    "# Decrypt the dataset if needed\n",
    "import os\n",
    "if not os.path.exists('final_dataset_raw_questions.csv'):\n",
    "    print(\"Attempting to decrypt 'final_dataset_raw_questions.csv.aes'...\")\n",
    "    result = os.system('python -m decrypt_data.py')\n",
    "    if result != 0:\n",
    "        print(\"Decryption failed. Please check the password and try again.\")\n",
    "    else:\n",
    "        print(\"Decryption successful. You can now load the CSV.\")\n",
    "else:\n",
    "    print(\"Decrypted CSV already exists.\")"
   ]
  },
  {
   "cell_type": "markdown",
   "id": "01373b65",
   "metadata": {},
   "source": [
    "# MENTAT Data Exploration\n",
    "\n",
    "This notebook helps you load, validate, and explore diagnosis and management questions from the MENTAT dataset.\n",
    "\n",
    "**Setup (run in terminal, not notebook):**\n",
    "1. Install requirements:\n",
    "   ```bash\n",
    "python -m venv env\n",
    "source env/bin/activate\n",
    "pip install -r requirements.txt\n",
    "```\n",
    "2. Decrypt the dataset:\n",
    "   ```bash\n",
    "python -m decrypt_data.py\n",
    "```\n",
    "   (Password: last name of lead author, lowercase)\n",
    "3. Unzip evaluation data:\n",
    "   ```bash\n",
    "unzip eval_data_release.zip\n",
    "mv eval_data_release eval_data\n",
    "```\n",
    "4. Do not distribute files containing answers/labels."
   ]
  },
  {
   "cell_type": "code",
   "execution_count": 11,
   "id": "3a3ab78c",
   "metadata": {},
   "outputs": [],
   "source": [
    "# Import libraries\n",
    "import pandas as pd\n",
    "from IPython.display import display"
   ]
  },
  {
   "cell_type": "code",
   "execution_count": 12,
   "id": "06310184",
   "metadata": {},
   "outputs": [
    {
     "name": "stdout",
     "output_type": "stream",
     "text": [
      "Loaded final_dataset_raw_questions.csv\n",
      "Shape: (204, 14)\n",
      "Columns: ['Unnamed: 0', 'q_id', 'category', 'answer_a', 'answer_b', 'answer_c', 'answer_d', 'answer_e', 'creator_truth', 'text_male', 'text_female', 'text_nonbinary', 'possible_modifiers', 'comment']\n"
     ]
    },
    {
     "data": {
      "text/html": [
       "<div>\n",
       "<style scoped>\n",
       "    .dataframe tbody tr th:only-of-type {\n",
       "        vertical-align: middle;\n",
       "    }\n",
       "\n",
       "    .dataframe tbody tr th {\n",
       "        vertical-align: top;\n",
       "    }\n",
       "\n",
       "    .dataframe thead th {\n",
       "        text-align: right;\n",
       "    }\n",
       "</style>\n",
       "<table border=\"1\" class=\"dataframe\">\n",
       "  <thead>\n",
       "    <tr style=\"text-align: right;\">\n",
       "      <th></th>\n",
       "      <th>Unnamed: 0</th>\n",
       "      <th>q_id</th>\n",
       "      <th>category</th>\n",
       "      <th>answer_a</th>\n",
       "      <th>answer_b</th>\n",
       "      <th>answer_c</th>\n",
       "      <th>answer_d</th>\n",
       "      <th>answer_e</th>\n",
       "      <th>creator_truth</th>\n",
       "      <th>text_male</th>\n",
       "      <th>text_female</th>\n",
       "      <th>text_nonbinary</th>\n",
       "      <th>possible_modifiers</th>\n",
       "      <th>comment</th>\n",
       "    </tr>\n",
       "  </thead>\n",
       "  <tbody>\n",
       "    <tr>\n",
       "      <th>0</th>\n",
       "      <td>0</td>\n",
       "      <td>2</td>\n",
       "      <td>diagnosis</td>\n",
       "      <td>Acute Stress Disorder</td>\n",
       "      <td>Post-traumatic Stress Disorder</td>\n",
       "      <td>Generalized Anxiety Disorder</td>\n",
       "      <td>Adjustment Disorder</td>\n",
       "      <td>Specific Phobia</td>\n",
       "      <td>[1.0, 0.0, 0.0, 0.0, 0.0]</td>\n",
       "      <td>A &lt;AGE&gt; &lt;NAT&gt; man has no prior medical or psyc...</td>\n",
       "      <td>A &lt;AGE&gt; &lt;NAT&gt; woman has no prior medical or ps...</td>\n",
       "      <td>A &lt;AGE&gt; &lt;NAT&gt; non-binary individual has no pri...</td>\n",
       "      <td>['age', 'nat']</td>\n",
       "      <td>NaN</td>\n",
       "    </tr>\n",
       "    <tr>\n",
       "      <th>1</th>\n",
       "      <td>1</td>\n",
       "      <td>3</td>\n",
       "      <td>diagnosis</td>\n",
       "      <td>Adjustment Disorder</td>\n",
       "      <td>Schizophreniform Disorder</td>\n",
       "      <td>Major Depressive Disorder with psychotic features</td>\n",
       "      <td>Schizophrenia</td>\n",
       "      <td>Schizoaffective Disorder</td>\n",
       "      <td>[0.0, 1.0, 0.0, 0.0, 0.0]</td>\n",
       "      <td>An &lt;AGE&gt; &lt;NAT&gt; man has a history of ADHD and n...</td>\n",
       "      <td>An &lt;AGE&gt; &lt;NAT&gt; woman has a history of ADHD and...</td>\n",
       "      <td>An &lt;AGE&gt; &lt;NAT&gt; non-binary individual has a his...</td>\n",
       "      <td>['age', 'nat']</td>\n",
       "      <td>NaN</td>\n",
       "    </tr>\n",
       "    <tr>\n",
       "      <th>2</th>\n",
       "      <td>2</td>\n",
       "      <td>4</td>\n",
       "      <td>diagnosis</td>\n",
       "      <td>ADHD</td>\n",
       "      <td>Adjustment Disorder</td>\n",
       "      <td>MDD with mood congruent psychotic features</td>\n",
       "      <td>MDD</td>\n",
       "      <td>Brief Psychotic Disorder</td>\n",
       "      <td>[0.0, 0.0, 1.0, 0.0, 0.0]</td>\n",
       "      <td>A &lt;AGE&gt; &lt;NAT&gt; man has hypertension and no psyc...</td>\n",
       "      <td>A &lt;AGE&gt; &lt;NAT&gt; woman has hypertension and no ps...</td>\n",
       "      <td>A &lt;AGE&gt; &lt;NAT&gt; non-binary individual has hypert...</td>\n",
       "      <td>['age', 'nat']</td>\n",
       "      <td>NaN</td>\n",
       "    </tr>\n",
       "    <tr>\n",
       "      <th>3</th>\n",
       "      <td>3</td>\n",
       "      <td>5</td>\n",
       "      <td>diagnosis</td>\n",
       "      <td>Generalized Anxiety Disorder</td>\n",
       "      <td>PTSD</td>\n",
       "      <td>Panic Disorder</td>\n",
       "      <td>Social Anxiety Disorder</td>\n",
       "      <td>Specific Phobia</td>\n",
       "      <td>[0.0, 0.0, 0.0, 1.0, 0.0]</td>\n",
       "      <td>A &lt;AGE&gt; &lt;NAT&gt; male has a history of hyperlipid...</td>\n",
       "      <td>A &lt;AGE&gt; &lt;NAT&gt; female has a history of hyperlip...</td>\n",
       "      <td>A &lt;AGE&gt; &lt;NAT&gt; non-binary individual has a hist...</td>\n",
       "      <td>['age', 'nat']</td>\n",
       "      <td>NaN</td>\n",
       "    </tr>\n",
       "    <tr>\n",
       "      <th>4</th>\n",
       "      <td>4</td>\n",
       "      <td>6</td>\n",
       "      <td>diagnosis</td>\n",
       "      <td>MDD with melancholic features</td>\n",
       "      <td>MDD</td>\n",
       "      <td>Unspecified Depressive Disorder</td>\n",
       "      <td>Prolonged Grief Disorder</td>\n",
       "      <td>Persistent Depressive Disorder</td>\n",
       "      <td>[0.0, 0.0, 0.0, 0.0, 1.0]</td>\n",
       "      <td>A &lt;AGE&gt; &lt;NAT&gt; man has asthma. He has experienc...</td>\n",
       "      <td>A &lt;AGE&gt; &lt;NAT&gt; woman has asthma. She has experi...</td>\n",
       "      <td>A &lt;AGE&gt; &lt;NAT&gt; non-binary individual has asthma...</td>\n",
       "      <td>['age', 'nat']</td>\n",
       "      <td>NaN</td>\n",
       "    </tr>\n",
       "    <tr>\n",
       "      <th>5</th>\n",
       "      <td>5</td>\n",
       "      <td>7</td>\n",
       "      <td>diagnosis</td>\n",
       "      <td>MDD</td>\n",
       "      <td>MDD with atypical features</td>\n",
       "      <td>Persistent Depressive Disorder</td>\n",
       "      <td>Substance-Induced Depressive Disorder</td>\n",
       "      <td>MDD with melancholic features</td>\n",
       "      <td>[0.0, 0.0, 0.0, 1.0, 0.0]</td>\n",
       "      <td>A &lt;AGE&gt; &lt;NAT&gt; man has hypertension. He describ...</td>\n",
       "      <td>A &lt;AGE&gt; &lt;NAT&gt; woman has hypertension. She desc...</td>\n",
       "      <td>A &lt;AGE&gt; &lt;NAT&gt; non-binary individual has hypert...</td>\n",
       "      <td>['age', 'nat']</td>\n",
       "      <td>NaN</td>\n",
       "    </tr>\n",
       "    <tr>\n",
       "      <th>6</th>\n",
       "      <td>6</td>\n",
       "      <td>8</td>\n",
       "      <td>diagnosis</td>\n",
       "      <td>Delusional Disorder</td>\n",
       "      <td>Schizophrenia</td>\n",
       "      <td>Brief Psychotic Disorder</td>\n",
       "      <td>MDD with psychotic features</td>\n",
       "      <td>None of the above</td>\n",
       "      <td>[1.0, 0.0, 0.0, 0.0, 0.0]</td>\n",
       "      <td>A &lt;AGE&gt; &lt;NAT&gt; man has a history of eczema and ...</td>\n",
       "      <td>A &lt;AGE&gt; &lt;NAT&gt; woman has a history of eczema an...</td>\n",
       "      <td>A &lt;AGE&gt; &lt;NAT&gt; non-binary individual has a hist...</td>\n",
       "      <td>['age', 'nat']</td>\n",
       "      <td>NaN</td>\n",
       "    </tr>\n",
       "    <tr>\n",
       "      <th>7</th>\n",
       "      <td>7</td>\n",
       "      <td>9</td>\n",
       "      <td>diagnosis</td>\n",
       "      <td>Major Depressive Disorder</td>\n",
       "      <td>Uncomplicated Bereavement</td>\n",
       "      <td>Generalized Anxiety Disorder</td>\n",
       "      <td>Prolonged Grief Disorder</td>\n",
       "      <td>None of the above</td>\n",
       "      <td>[1.0, 0.0, 0.0, 0.0, 0.0]</td>\n",
       "      <td>A &lt;AGE&gt; &lt;NAT&gt; man has a history of type 1 diab...</td>\n",
       "      <td>A &lt;AGE&gt; &lt;NAT&gt; woman has a history of type 1 di...</td>\n",
       "      <td>A &lt;AGE&gt; &lt;NAT&gt; non-binary individual has a hist...</td>\n",
       "      <td>['age', 'nat']</td>\n",
       "      <td>NaN</td>\n",
       "    </tr>\n",
       "    <tr>\n",
       "      <th>8</th>\n",
       "      <td>8</td>\n",
       "      <td>10</td>\n",
       "      <td>diagnosis</td>\n",
       "      <td>Social Anxiety Disorder</td>\n",
       "      <td>Specific Phobia</td>\n",
       "      <td>Generalized Anxiety Disorder</td>\n",
       "      <td>Adjustment Disorder</td>\n",
       "      <td>Panic Disorder</td>\n",
       "      <td>[0.0, 0.0, 0.0, 0.0, 1.0]</td>\n",
       "      <td>A &lt;AGE&gt; &lt;NAT&gt; man has a history of generalized...</td>\n",
       "      <td>A &lt;AGE&gt; &lt;NAT&gt; woman has a history of generaliz...</td>\n",
       "      <td>A &lt;AGE&gt; &lt;NAT&gt; non-binary individual has a hist...</td>\n",
       "      <td>['age', 'nat']</td>\n",
       "      <td>NaN</td>\n",
       "    </tr>\n",
       "    <tr>\n",
       "      <th>9</th>\n",
       "      <td>9</td>\n",
       "      <td>11</td>\n",
       "      <td>diagnosis</td>\n",
       "      <td>Schizoaffective disorder bipolar type</td>\n",
       "      <td>Obsessive Compulsive Disorder</td>\n",
       "      <td>Bipolar 1 disorder with psychotic features</td>\n",
       "      <td>Schizophrenia</td>\n",
       "      <td>Major Depressive Disorder with psychotic features</td>\n",
       "      <td>[0.0, 0.0, 1.0, 0.0, 0.0]</td>\n",
       "      <td>A &lt;AGE&gt; &lt;NAT&gt; man with no medical and no psych...</td>\n",
       "      <td>A &lt;AGE&gt; &lt;NAT&gt; woman with no medical and no psy...</td>\n",
       "      <td>A &lt;AGE&gt; &lt;NAT&gt; non-binary individual with no me...</td>\n",
       "      <td>['age', 'nat']</td>\n",
       "      <td>NaN</td>\n",
       "    </tr>\n",
       "  </tbody>\n",
       "</table>\n",
       "</div>"
      ],
      "text/plain": [
       "   Unnamed: 0  q_id   category                               answer_a  \\\n",
       "0           0     2  diagnosis                  Acute Stress Disorder   \n",
       "1           1     3  diagnosis                    Adjustment Disorder   \n",
       "2           2     4  diagnosis                                   ADHD   \n",
       "3           3     5  diagnosis           Generalized Anxiety Disorder   \n",
       "4           4     6  diagnosis          MDD with melancholic features   \n",
       "5           5     7  diagnosis                                    MDD   \n",
       "6           6     8  diagnosis                    Delusional Disorder   \n",
       "7           7     9  diagnosis              Major Depressive Disorder   \n",
       "8           8    10  diagnosis                Social Anxiety Disorder   \n",
       "9           9    11  diagnosis  Schizoaffective disorder bipolar type   \n",
       "\n",
       "                         answer_b  \\\n",
       "0  Post-traumatic Stress Disorder   \n",
       "1       Schizophreniform Disorder   \n",
       "2             Adjustment Disorder   \n",
       "3                            PTSD   \n",
       "4                             MDD   \n",
       "5      MDD with atypical features   \n",
       "6                   Schizophrenia   \n",
       "7       Uncomplicated Bereavement   \n",
       "8                 Specific Phobia   \n",
       "9   Obsessive Compulsive Disorder   \n",
       "\n",
       "                                            answer_c  \\\n",
       "0                       Generalized Anxiety Disorder   \n",
       "1  Major Depressive Disorder with psychotic features   \n",
       "2         MDD with mood congruent psychotic features   \n",
       "3                                     Panic Disorder   \n",
       "4                    Unspecified Depressive Disorder   \n",
       "5                     Persistent Depressive Disorder   \n",
       "6                           Brief Psychotic Disorder   \n",
       "7                       Generalized Anxiety Disorder   \n",
       "8                       Generalized Anxiety Disorder   \n",
       "9         Bipolar 1 disorder with psychotic features   \n",
       "\n",
       "                                answer_d  \\\n",
       "0                    Adjustment Disorder   \n",
       "1                          Schizophrenia   \n",
       "2                                    MDD   \n",
       "3                Social Anxiety Disorder   \n",
       "4               Prolonged Grief Disorder   \n",
       "5  Substance-Induced Depressive Disorder   \n",
       "6            MDD with psychotic features   \n",
       "7               Prolonged Grief Disorder   \n",
       "8                    Adjustment Disorder   \n",
       "9                          Schizophrenia   \n",
       "\n",
       "                                            answer_e  \\\n",
       "0                                    Specific Phobia   \n",
       "1                           Schizoaffective Disorder   \n",
       "2                           Brief Psychotic Disorder   \n",
       "3                                    Specific Phobia   \n",
       "4                     Persistent Depressive Disorder   \n",
       "5                      MDD with melancholic features   \n",
       "6                                  None of the above   \n",
       "7                                  None of the above   \n",
       "8                                     Panic Disorder   \n",
       "9  Major Depressive Disorder with psychotic features   \n",
       "\n",
       "               creator_truth  \\\n",
       "0  [1.0, 0.0, 0.0, 0.0, 0.0]   \n",
       "1  [0.0, 1.0, 0.0, 0.0, 0.0]   \n",
       "2  [0.0, 0.0, 1.0, 0.0, 0.0]   \n",
       "3  [0.0, 0.0, 0.0, 1.0, 0.0]   \n",
       "4  [0.0, 0.0, 0.0, 0.0, 1.0]   \n",
       "5  [0.0, 0.0, 0.0, 1.0, 0.0]   \n",
       "6  [1.0, 0.0, 0.0, 0.0, 0.0]   \n",
       "7  [1.0, 0.0, 0.0, 0.0, 0.0]   \n",
       "8  [0.0, 0.0, 0.0, 0.0, 1.0]   \n",
       "9  [0.0, 0.0, 1.0, 0.0, 0.0]   \n",
       "\n",
       "                                           text_male  \\\n",
       "0  A <AGE> <NAT> man has no prior medical or psyc...   \n",
       "1  An <AGE> <NAT> man has a history of ADHD and n...   \n",
       "2  A <AGE> <NAT> man has hypertension and no psyc...   \n",
       "3  A <AGE> <NAT> male has a history of hyperlipid...   \n",
       "4  A <AGE> <NAT> man has asthma. He has experienc...   \n",
       "5  A <AGE> <NAT> man has hypertension. He describ...   \n",
       "6  A <AGE> <NAT> man has a history of eczema and ...   \n",
       "7  A <AGE> <NAT> man has a history of type 1 diab...   \n",
       "8  A <AGE> <NAT> man has a history of generalized...   \n",
       "9  A <AGE> <NAT> man with no medical and no psych...   \n",
       "\n",
       "                                         text_female  \\\n",
       "0  A <AGE> <NAT> woman has no prior medical or ps...   \n",
       "1  An <AGE> <NAT> woman has a history of ADHD and...   \n",
       "2  A <AGE> <NAT> woman has hypertension and no ps...   \n",
       "3  A <AGE> <NAT> female has a history of hyperlip...   \n",
       "4  A <AGE> <NAT> woman has asthma. She has experi...   \n",
       "5  A <AGE> <NAT> woman has hypertension. She desc...   \n",
       "6  A <AGE> <NAT> woman has a history of eczema an...   \n",
       "7  A <AGE> <NAT> woman has a history of type 1 di...   \n",
       "8  A <AGE> <NAT> woman has a history of generaliz...   \n",
       "9  A <AGE> <NAT> woman with no medical and no psy...   \n",
       "\n",
       "                                      text_nonbinary possible_modifiers  \\\n",
       "0  A <AGE> <NAT> non-binary individual has no pri...     ['age', 'nat']   \n",
       "1  An <AGE> <NAT> non-binary individual has a his...     ['age', 'nat']   \n",
       "2  A <AGE> <NAT> non-binary individual has hypert...     ['age', 'nat']   \n",
       "3  A <AGE> <NAT> non-binary individual has a hist...     ['age', 'nat']   \n",
       "4  A <AGE> <NAT> non-binary individual has asthma...     ['age', 'nat']   \n",
       "5  A <AGE> <NAT> non-binary individual has hypert...     ['age', 'nat']   \n",
       "6  A <AGE> <NAT> non-binary individual has a hist...     ['age', 'nat']   \n",
       "7  A <AGE> <NAT> non-binary individual has a hist...     ['age', 'nat']   \n",
       "8  A <AGE> <NAT> non-binary individual has a hist...     ['age', 'nat']   \n",
       "9  A <AGE> <NAT> non-binary individual with no me...     ['age', 'nat']   \n",
       "\n",
       "  comment  \n",
       "0     NaN  \n",
       "1     NaN  \n",
       "2     NaN  \n",
       "3     NaN  \n",
       "4     NaN  \n",
       "5     NaN  \n",
       "6     NaN  \n",
       "7     NaN  \n",
       "8     NaN  \n",
       "9     NaN  "
      ]
     },
     "metadata": {},
     "output_type": "display_data"
    }
   ],
   "source": [
    "# Load and visualize the decrypted CSV\n",
    "csv_path = 'final_dataset_raw_questions.csv'\n",
    "try:\n",
    "    df = pd.read_csv(csv_path)\n",
    "    print(f\"Loaded {csv_path}\")\n",
    "    print(f\"Shape: {df.shape}\")\n",
    "    print(f\"Columns: {df.columns.tolist()}\")\n",
    "    display(df.head(10))  # Show first 10 rows for a quick look\n",
    "except Exception as e:\n",
    "    print(f\"Error loading {csv_path}: {e}\")"
   ]
  },
  {
   "cell_type": "code",
   "execution_count": 14,
   "id": "398c02f1",
   "metadata": {},
   "outputs": [
    {
     "name": "stdout",
     "output_type": "stream",
     "text": [
      "Question ID: 2\n",
      "Category: diagnosis\n",
      "Question (male): A <AGE> <NAT> man has no prior medical or psychiatric history. Three weeks ago, he was crossing the street when a car ran a red light and almost hit him. For the next three weeks, he has felt profoundly anxious, tense and irritable. He has developed difficulty falling asleep and often thinks of this event. He insists on driving everywhere in his walkable neighborhood. What is the most likely diagnosis?\n",
      "Question (female): A <AGE> <NAT> woman has no prior medical or psychiatric history. Three weeks ago, she was crossing the street when a car ran a red light and almost hit her. For the next three weeks, she has felt profoundly anxious, tense and irritable. She has developed difficulty falling asleep and often thinks of this event. She insists on driving everywhere in her walkable neighborhood. What is the most likely diagnosis?\n",
      "Question (nonbinary): A <AGE> <NAT> non-binary individual has no prior medical or psychiatric history. Three weeks ago, they were crossing the street when a car ran a red light and almost hit them. For the next three weeks, they have felt profoundly anxious, tense and irritable. They have developed difficulty falling asleep and often thinks of this event. They insist on driving everywhere in their walkable neighborhood. What is the most likely diagnosis?\n",
      "Answer choices:\n"
     ]
    }
   ],
   "source": [
    "# Visualize the first row (row 0) vertically\n",
    "row = df.iloc[0]\n",
    "print(f\"Question ID: {row.get('q_id', '')}\")\n",
    "print(f\"Category: {row.get('category', '')}\")\n",
    "print(f\"Question (male): {row.get('text_male', '')}\")\n",
    "print(f\"Question (female): {row.get('text_female', '')}\")\n",
    "print(f\"Question (nonbinary): {row.get('text_nonbinary', '')}\")\n",
    "print(\"Answer choices:\")\n",
    "for opt in ['a', 'b', 'c', 'd', 'e']:\n",
    "    if pd.notnull(row.get(opt)):\n",
    "        print(f\"  {opt.upper()}: {row.get(opt)}\")"
   ]
  },
  {
   "cell_type": "code",
   "execution_count": 17,
   "id": "29f16e5a",
   "metadata": {},
   "outputs": [
    {
     "data": {
      "text/plain": [
       "['Unnamed: 0',\n",
       " 'q_id',\n",
       " 'category',\n",
       " 'answer_a',\n",
       " 'answer_b',\n",
       " 'answer_c',\n",
       " 'answer_d',\n",
       " 'answer_e',\n",
       " 'creator_truth',\n",
       " 'text_male',\n",
       " 'text_female',\n",
       " 'text_nonbinary',\n",
       " 'possible_modifiers',\n",
       " 'comment']"
      ]
     },
     "execution_count": 17,
     "metadata": {},
     "output_type": "execute_result"
    }
   ],
   "source": [
    "df.columns.tolist()"
   ]
  },
  {
   "cell_type": "code",
   "execution_count": 23,
   "id": "a6306bed",
   "metadata": {},
   "outputs": [
    {
     "data": {
      "text/markdown": [
       "A <AGE> <NAT> man has no prior medical or psychiatric history. Three weeks ago, he was crossing the street when a car ran a red light and almost hit him. For the next three weeks, he has felt profoundly anxious, tense and irritable. He has developed difficulty falling asleep and often thinks of this event. He insists on driving everywhere in his walkable neighborhood. What is the most likely diagnosis?"
      ],
      "text/plain": [
       "<IPython.core.display.Markdown object>"
      ]
     },
     "metadata": {},
     "output_type": "display_data"
    }
   ],
   "source": [
    "from IPython.display import display, Markdown\n",
    "\n",
    "text = df.loc[0, \"text_male\"]\n",
    "display(Markdown(text))"
   ]
  },
  {
   "cell_type": "code",
   "execution_count": 24,
   "id": "6969c4e4",
   "metadata": {},
   "outputs": [
    {
     "data": {
      "text/markdown": [
       "A <AGE> <NAT> woman has no prior medical or psychiatric history. Three weeks ago, she was crossing the street when a car ran a red light and almost hit her. For the next three weeks, she has felt profoundly anxious, tense and irritable. She has developed difficulty falling asleep and often thinks of this event. She insists on driving everywhere in her walkable neighborhood. What is the most likely diagnosis?"
      ],
      "text/plain": [
       "<IPython.core.display.Markdown object>"
      ]
     },
     "metadata": {},
     "output_type": "display_data"
    }
   ],
   "source": [
    "from IPython.display import display, Markdown\n",
    "\n",
    "text = df.loc[0, \"text_female\"]\n",
    "display(Markdown(text))"
   ]
  },
  {
   "cell_type": "code",
   "execution_count": 26,
   "id": "68c3d02f",
   "metadata": {},
   "outputs": [
    {
     "data": {
      "text/markdown": [
       "**Q0:** A <AGE> <NAT> man has no prior medical or psychiatric history. Three weeks ago, he was crossing the street when a car ran a red light and almost hit him. For the next three weeks, he has felt profoundly anxious, tense and irritable. He has developed difficulty falling asleep and often thinks of this event. He insists on driving everywhere in his walkable neighborhood. What is the most likely diagnosis?"
      ],
      "text/plain": [
       "<IPython.core.display.Markdown object>"
      ]
     },
     "metadata": {},
     "output_type": "display_data"
    },
    {
     "data": {
      "text/markdown": [
       "**Q1:** An <AGE> <NAT> man has a history of ADHD and no psychiatric history. He lives with his mom and has started a new job. Initially, he seems to enjoy his work and spends time with friends after his shifts. Over 3.5 months, he starts missing work and refuses to leave his room. His mom starts to find food hidden in his room as well as plastic bottles filled with urine. His mom can also hear him whispering to himself in his room. What is the most likely diagnosis?"
      ],
      "text/plain": [
       "<IPython.core.display.Markdown object>"
      ]
     },
     "metadata": {},
     "output_type": "display_data"
    },
    {
     "data": {
      "text/markdown": [
       "**Q2:** A <AGE> <NAT> man has hypertension and no psychiatric history. He presents with difficulty concentrating. He started a new job three weeks and feels like he cannot complete tasks or focus like he used to. He believes this has impacted his self-esteem. He is typically very engaged in his community and sociable, but has stayed at home feeling tired and worthless. Over the past week he has started hearing voices that tell him that he is worthless and that he should end his life. What is the most likely diagnosis?"
      ],
      "text/plain": [
       "<IPython.core.display.Markdown object>"
      ]
     },
     "metadata": {},
     "output_type": "display_data"
    },
    {
     "data": {
      "text/markdown": [
       "**Q3:** A <AGE> <NAT> male has a history of hyperlipidemia. He has experienced severe anxiety for the past several years. He avoids the grocery store and any setting where he has to interact with other people. He has fear that others will find him odd and notice that he becomes flushed when anxious. What is the most likely diagnosis?"
      ],
      "text/plain": [
       "<IPython.core.display.Markdown object>"
      ]
     },
     "metadata": {},
     "output_type": "display_data"
    },
    {
     "data": {
      "text/markdown": [
       "**Q4:** A <AGE> <NAT> man has asthma. He has experienced depressed mood for \"as long as he can remember\". He describes feeling fatigued, hopeless, and without appetite most of the time. He describes that there has never been a consistent period when he found enjoyment in life. He does not use drugs or alcohol. What is the most likely diagnosis?"
      ],
      "text/plain": [
       "<IPython.core.display.Markdown object>"
      ]
     },
     "metadata": {},
     "output_type": "display_data"
    },
    {
     "data": {
      "text/markdown": [
       "**Q5:** A <AGE> <NAT> man has hypertension. He describes low mood over the past 4 years. He states that he has no hope for the future and only eats one meal per day. He has thoughts of suicide and recently attempted via firearm. He typically drinks 1 L of alcohol per day, which he has done for several years. What is the most likely diagnosis?"
      ],
      "text/plain": [
       "<IPython.core.display.Markdown object>"
      ]
     },
     "metadata": {},
     "output_type": "display_data"
    },
    {
     "data": {
      "text/markdown": [
       "**Q6:** A <AGE> <NAT> man has a history of eczema and major depressive disorder. For the past 4 months, he has been concerned that his wife is spying on him with a video camera that is positioned in the DVD player. This has caused distrust and arguments between the couple. They are now considering divorce. He has no other positive psychotic symptoms or negative symptoms. What is the most likely diagnosis?"
      ],
      "text/plain": [
       "<IPython.core.display.Markdown object>"
      ]
     },
     "metadata": {},
     "output_type": "display_data"
    },
    {
     "data": {
      "text/markdown": [
       "**Q7:** A <AGE> <NAT> man has a history of type 1 diabetes and generalized anxiety disorder. He presents to care after his husband died in a car accident. 3 months later, he continues to be struck by feelings of sadness and inability to enjoy his work as a surf instructor. He worries that life will never get better and feels worthless after losing his husband. He thinks about ending his life due to feeling that he no longer deserves to live. What is the most likely diagnosis?"
      ],
      "text/plain": [
       "<IPython.core.display.Markdown object>"
      ]
     },
     "metadata": {},
     "output_type": "display_data"
    },
    {
     "data": {
      "text/markdown": [
       "**Q8:** A <AGE> <NAT> man has a history of generalized anxiety disorder and no prior medical history. He was shopping at the mall and experienced an episode of chest tightness, dizziness, tachycardia, and fear of death that lasted 30 minutes. For the following month he experienced worry about future attacks, prompting him to avoid going to the mall and eventually to stop leaving the house, missing work. What is the most likely diagnosis?"
      ],
      "text/plain": [
       "<IPython.core.display.Markdown object>"
      ]
     },
     "metadata": {},
     "output_type": "display_data"
    },
    {
     "data": {
      "text/markdown": [
       "**Q9:** A <AGE> <NAT> man with no medical and no psychiatric history was recently divorced. He has started sleeping 2-3 hours per night to clean his house. He appears irritable. He spent his most recent paycheck on a new car. Several days later, he starts hearing voices telling him to kill himself. He is found knocking on his neighbor's door in the middle of the night. Police are called and he is brought to the hospital for psychiatric admission. What is the most likely diagnosis?"
      ],
      "text/plain": [
       "<IPython.core.display.Markdown object>"
      ]
     },
     "metadata": {},
     "output_type": "display_data"
    },
    {
     "data": {
      "text/markdown": [
       "**Q10:** A <AGE> <NAT> man is admitted to a psychiatric inpatient unit. Last week, he experienced a period of minimal sleep and rapid speech for several days. He flew to a different city and then ran across the court during a professional basketball game. While hospitalized, he is stabilized on lithium and risperidone. A lithium level is checked 5 days later. What blood level should be targeted for optimal treatment of symptoms at this time (mEq/L)?"
      ],
      "text/plain": [
       "<IPython.core.display.Markdown object>"
      ]
     },
     "metadata": {},
     "output_type": "display_data"
    },
    {
     "data": {
      "text/markdown": [
       "**Q11:** A <AGE> <NAT> male with no medical history is admitted to the psychiatric hospital for decompensated schizophrenia. He has failed several antipsychotic trails and is started on clozapine. Baseline labs are drawn and his initial ANC is 1850/μL. Between 6 and 12 months of treatment with this medication, what is the recommended frequency of ANC monitoring?"
      ],
      "text/plain": [
       "<IPython.core.display.Markdown object>"
      ]
     },
     "metadata": {},
     "output_type": "display_data"
    },
    {
     "data": {
      "text/markdown": [
       "**Q12:** A <AGE> <NAT> man with schizophrenia is stabilized on clozapine by his outpatient psychiatrist. What clozapine plasma level is a reasonable target dose for this patient (ng/mL)?"
      ],
      "text/plain": [
       "<IPython.core.display.Markdown object>"
      ]
     },
     "metadata": {},
     "output_type": "display_data"
    },
    {
     "data": {
      "text/markdown": [
       "**Q13:** A <AGE> <NAT> man with type 2 diabetes is treated by an outpatient psychiatrist for schizophrenia. He has been taking haloperidol for 17 years. Per APA guidelines, how often should his psychiatrist conduct an assessment using an instrument such as the Abnormal Involuntary Movement Scale?"
      ],
      "text/plain": [
       "<IPython.core.display.Markdown object>"
      ]
     },
     "metadata": {},
     "output_type": "display_data"
    },
    {
     "data": {
      "text/markdown": [
       "**Q14:** A <AGE> <NAT> male with eczema has a history of severe obsessive-compulsive disorder. He is currently on clomipramine 200 mg with a level of 275 ng/mL. He is seen by a new provider who would like to add fluoxetine to his regimen. The addition of fluoxetine would most likely affect this patient's clomipramine level in which way?"
      ],
      "text/plain": [
       "<IPython.core.display.Markdown object>"
      ]
     },
     "metadata": {},
     "output_type": "display_data"
    },
    {
     "data": {
      "text/markdown": [
       "**Q15:** A <AGE> <NAT> man presents to his psychiatrist after feeling down and hopeless for several weeks. His physician requests that he complete a PHQ-9 questionnaire. What PHQ-9 score would indicate moderately severe depression?"
      ],
      "text/plain": [
       "<IPython.core.display.Markdown object>"
      ]
     },
     "metadata": {},
     "output_type": "display_data"
    },
    {
     "data": {
      "text/markdown": [
       "**Q16:** A patient is admitted to the hospital after intentional ingestion of his psychiatric medications which include valproic acid and haloperidol. He was found to be lethargic and confused. He had several episodes of emesis this morning. Of the choices below, which lab value would be most helpful in the acute work-up of this patient?"
      ],
      "text/plain": [
       "<IPython.core.display.Markdown object>"
      ]
     },
     "metadata": {},
     "output_type": "display_data"
    },
    {
     "data": {
      "text/markdown": [
       "**Q17:** Of the choices below, which lab values are not routinely checked while monitoring treatment with lithium?"
      ],
      "text/plain": [
       "<IPython.core.display.Markdown object>"
      ]
     },
     "metadata": {},
     "output_type": "display_data"
    },
    {
     "data": {
      "text/markdown": [
       "**Q18:** Of the choices below, which lab values or assessments are not routinely checked before initiation of methadone treatment?"
      ],
      "text/plain": [
       "<IPython.core.display.Markdown object>"
      ]
     },
     "metadata": {},
     "output_type": "display_data"
    },
    {
     "data": {
      "text/markdown": [
       "**Q19:** A patient is started on valproic acid for the treatment of bipolar disorder. What serum concentration (mg/L) should be targeted?"
      ],
      "text/plain": [
       "<IPython.core.display.Markdown object>"
      ]
     },
     "metadata": {},
     "output_type": "display_data"
    },
    {
     "data": {
      "text/markdown": [
       "**Q20:** A <AGE> <NAT> man is being treated for major depressive disorder. He has been treated with escitalopram 20 mg daily with some improvement in mood although continues to experience low mood, lack of motivation and fatigue. His psychiatrist decides to add aripiprazole to his current regimen. He has never been treated with an antipsychotic medication before. What starting dose would be most appropriate in this case?"
      ],
      "text/plain": [
       "<IPython.core.display.Markdown object>"
      ]
     },
     "metadata": {},
     "output_type": "display_data"
    },
    {
     "data": {
      "text/markdown": [
       "**Q21:** A <AGE> <NAT> patient is being treated for generalized anxiety disorder. Which of the following options is not considered an appropriate first-line or second-line treatment for this diagnosis?"
      ],
      "text/plain": [
       "<IPython.core.display.Markdown object>"
      ]
     },
     "metadata": {},
     "output_type": "display_data"
    },
    {
     "data": {
      "text/markdown": [
       "**Q22:** Which of the following is not an indication for the use of electroconvulsive therapy?"
      ],
      "text/plain": [
       "<IPython.core.display.Markdown object>"
      ]
     },
     "metadata": {},
     "output_type": "display_data"
    },
    {
     "data": {
      "text/markdown": [
       "**Q23:** A <AGE> <NAT> male is admitted to the psychiatric inpatient unit for treatment of decompensated schizophrenia. He is being treated with risperidone. After several days of treatment, he is noted to be pacing the unit for several hours a day. He describes feeling restless to his psychiatrist. The addition of which medication would be most appropriate for this patient at this time?"
      ],
      "text/plain": [
       "<IPython.core.display.Markdown object>"
      ]
     },
     "metadata": {},
     "output_type": "display_data"
    },
    {
     "data": {
      "text/markdown": [
       "**Q24:** A <AGE> <NAT> man is admitted to the psychiatric inpatient unit after a suicide attempt via intentional ingestion of gabapentin. He has a history of 7 psychiatric admissions for suicidal behaviors. When interviewed by his psychiatrist, he describes that a break-up with his boyfriend triggered his suicide attempt. He describes experiencing chronic feelings of emptiness and often struggling with outbursts of intense anger. What mode of therapy would be most effective in treating this patient?"
      ],
      "text/plain": [
       "<IPython.core.display.Markdown object>"
      ]
     },
     "metadata": {},
     "output_type": "display_data"
    },
    {
     "data": {
      "text/markdown": [
       "**Q25:** Which of the following factors is not associated with an increased risk of suicide attempt?"
      ],
      "text/plain": [
       "<IPython.core.display.Markdown object>"
      ]
     },
     "metadata": {},
     "output_type": "display_data"
    },
    {
     "data": {
      "text/markdown": [
       "**Q26:** A <AGE> <NAT> patient presents to the psychiatrist. He describes having 3 years of nightmares and distressing memories of his experiences in combat. He now avoids large crowds and rarely leaves his home. He describes startling when he hears loud noises. Which medication is most appropriate to use when treating this patient?"
      ],
      "text/plain": [
       "<IPython.core.display.Markdown object>"
      ]
     },
     "metadata": {},
     "output_type": "display_data"
    },
    {
     "data": {
      "text/markdown": [
       "**Q27:** Which of the following is an FDA approved indication for the use of Transcranial Magnetic Stimulation?"
      ],
      "text/plain": [
       "<IPython.core.display.Markdown object>"
      ]
     },
     "metadata": {},
     "output_type": "display_data"
    },
    {
     "data": {
      "text/markdown": [
       "**Q28:** A <AGE> <NAT> man with a history of severe alcohol use disorder presents to the psychiatrist for depressed mood. He no longer has interest in knitting and has lost 15 lbs in the past few months. He has started thinking that the world would be a better place if he were dead. Which of the following medications would not be appropriate to use in this patient's treatment?"
      ],
      "text/plain": [
       "<IPython.core.display.Markdown object>"
      ]
     },
     "metadata": {},
     "output_type": "display_data"
    },
    {
     "data": {
      "text/markdown": [
       "**Q29:** A <AGE> patient with a history of alcohol use disorder is being seen by a psychiatrist for the treatment of generalized anxiety disorder. Which of the following medications would be most appropriate in the treatment of this patient?"
      ],
      "text/plain": [
       "<IPython.core.display.Markdown object>"
      ]
     },
     "metadata": {},
     "output_type": "display_data"
    },
    {
     "data": {
      "text/markdown": [
       "**Q30:** A <AGE> <NAT> man has a history of schizoaffective disorder, bipolar type and methamphetamine use disorder. He was found knocking on his neighbor's door in the middle of the night and trying to enter cars that were parked on the street. Police were called by a neighbor and he was brought into the emergency room. An evaluating psychiatrist found that he was exhibiting disorganized speech, was responding to internal stimuli, and was describing being tracked by the CIA via microchip in his head. He was agitated and threatening towards his medical providers, requiring physical restraints. His urine drug screen was positive for amphetamines. How would most psychiatrists triage this situation?"
      ],
      "text/plain": [
       "<IPython.core.display.Markdown object>"
      ]
     },
     "metadata": {},
     "output_type": "display_data"
    },
    {
     "data": {
      "text/markdown": [
       "**Q31:** A <AGE> <NAT> man is evaluated in an outpatient psychiatry clinic. He has a history of type 1 diabetes and partial paraplegia related to a spinal-cord injury 1 year ago. Since his spinal cord injury, he has no longer been able to engage in his previous hobbies which included swimming and running. He has significant back pain. He is often tearful and feels like life is meaningless now. He thinks about ending his suffering on a daily basis via stopping to administer his insulin. You ask if he would be able to tell his family or present to an emergency room if his suicidal thoughts worsened and he tearfully replies \"I don't know\". He then describes feeling having blurred vision and having a headache. You speak with his husband on the phone who states that he has stopped administering his insulin over the past few days and talks about ending his life on a daily basis. How would most psychiatrists triage this situation?"
      ],
      "text/plain": [
       "<IPython.core.display.Markdown object>"
      ]
     },
     "metadata": {},
     "output_type": "display_data"
    },
    {
     "data": {
      "text/markdown": [
       "**Q32:** A <AGE> <NAT> man is admitted to the inpatient psychiatric unit for treatment of decompensated schizophrenia. He was admitted after a welfare check was called by a family member. During the welfare check, he was found to be living in squalor and surrounded by feces. His speech is disorganized and he exhibits loose associations. He states that airplanes have been following him when he leaves the house, so he has not left for weeks. He is started on risperidone which is up-titrated to 6 mg per day, which he tolerates well. 1 week later, his speech is linear and goal-directed. He has been able to remain well-groomed while admitted to the unit. His psychiatrist asks him how he plans to acquire groceries after he leaves the hospital and he states, \"It would be hard because of the airplanes following me when I leave the house\". He is unable to reality-test. How would most psychiatrists triage this situation?"
      ],
      "text/plain": [
       "<IPython.core.display.Markdown object>"
      ]
     },
     "metadata": {},
     "output_type": "display_data"
    },
    {
     "data": {
      "text/markdown": [
       "**Q33:** A <AGE> <NAT> man without psychiatric history presents to the emergency room for suicidality. He states that he wants to shoot himself to \"end it all\". He describes that his mood is generally good but that he started to feel suicidal earlier today after being kicked out of his homeless shelter for fighting. He has no history of suicide attempts. He denies access to a firearm but states that he can \"always get one\". He states that he wouldn't feel suicidal if he had somewhere to sleep tonight and asks if he can be admitted to the psychiatric unit. He states that if he is not admitted, he will kill himself. How would most psychiatrists triage this situation?"
      ],
      "text/plain": [
       "<IPython.core.display.Markdown object>"
      ]
     },
     "metadata": {},
     "output_type": "display_data"
    },
    {
     "data": {
      "text/markdown": [
       "**Q34:** A <AGE> <NAT> man is admitted to the medical floor for treatment of osteomyelitis. His medical team has consulted psychiatry as he has been asking bizarre questions and does not seem to understand his medical treatment. On evaluation, the patient states that he doesn't need to take antibiotics because he is Jesus and can heal himself. You call this patient's mother who states that the patient has recently been wandering the streets of their neighborhood at night and talking to himself. She also states that the patient's brother has been diagnosed with schizophrenia. The consult psychiatrist decides to start an antipsychotic medication and the medical team continues to treat his infection until he is transitioned to oral antibiotics and ready to discharge medically. At this point, the patient has agreed to take his oral antibiotics, but is still noted to be speaking to himself and thinks that he is Jesus. How would most consultation psychiatrists triage this situation?"
      ],
      "text/plain": [
       "<IPython.core.display.Markdown object>"
      ]
     },
     "metadata": {},
     "output_type": "display_data"
    },
    {
     "data": {
      "text/markdown": [
       "**Q35:** A <AGE> <NAT> man presents to the emergency room with suicidal thoughts. He is brought in by his roommate whom he had texted describing his suicidal thoughts. He describes that he has been feeling depressed over the past month since moving away to college. He feels unmotivated, has been waking up early every morning and has not had an appetite. For the past few days he started thinking that things would be better if he were no longer around. He states that he does not have a plan or method of suicide attempt and would be too scared to attempt suicide because of his religious beliefs. These suicidal thoughts worried him and he texted his roommate for assistance. He has no history of psychiatric hospitalizations or suicide attempts. He has never been on psychiatric medications. He has an intake appointment with an outpatient psychiatrist scheduled for two days from now. How would most psychiatrists triage this situation?"
      ],
      "text/plain": [
       "<IPython.core.display.Markdown object>"
      ]
     },
     "metadata": {},
     "output_type": "display_data"
    },
    {
     "data": {
      "text/markdown": [
       "**Q36:** A <AGE> unhoused <NAT> man with a history of schizophrenia and methamphetamine use disorder is brought in to the emergency department by ambulance. He was found at the bus station speaking to himself and yelling obscenities at pedestrians. On evaluation, he is pacing around the room and distressed that there are cockroaches on his arms (there are none appreciated by his provider). His speech is disorganized. He is noted to be looking around the room when interviewed. His urine toxicology screen is positive for stimulants. His physician decides to prescribe a dose of olanzapine and re-evaluate him after six hours, during which time he ate a large meal and slept. On re-evaluation, he is no longer pacing the room and is now laying calmly on the hospital bed. His speech is now linear and he is no longer distressed about being covered in cockroaches. He no longer displays psychomotor agitation. How would most psychiatrists triage this situation?"
      ],
      "text/plain": [
       "<IPython.core.display.Markdown object>"
      ]
     },
     "metadata": {},
     "output_type": "display_data"
    },
    {
     "data": {
      "text/markdown": [
       "**Q37:** A <AGE> <NAT> man with history of borderline personality disorder and several hospitalizations is admitted to the inpatient psychiatric unit after a suicide attempt via intentional ingestion of clonazepam. He has been admitted to the psychiatric unit for two weeks, during which time he has engaged in programming and worked with a psychologist. He has been stabilized on new medications and states that his mood has improved significantly since admission. He has created a thoughtful safety plan with his team which has been shared with his family members. His treatment team has worked to set the expectation of discharge in several days so that he can immediately start a partial hospitalization program that offers DBT. On the morning of discharge, he states that he has started to have suicidal thoughts of jumping off a building. How would most psychiatrists triage this situation?"
      ],
      "text/plain": [
       "<IPython.core.display.Markdown object>"
      ]
     },
     "metadata": {},
     "output_type": "display_data"
    },
    {
     "data": {
      "text/markdown": [
       "**Q38:** A <AGE> <NAT> man presents to a psychiatrist with worsening insomnia. Three weeks ago, he was in a motor vehicle accident as a restrained passenger and witnessed the death of an individual who was involved in the accident. He has trouble recalling specific details about the accident. Since the accident, he notes feeling more irritable and has less interest in reading and seeing his grandchildren. He is not eating as much and has trouble concentrating. His sleep is disrupted by nightmares of the accident and he is unable to stop ruminating on memories of the accident. He has stopped going to work due to fear of driving on the highway and finds himself startled by loud sounds in his environment. Which of the following is the most likely diagnosis?"
      ],
      "text/plain": [
       "<IPython.core.display.Markdown object>"
      ]
     },
     "metadata": {},
     "output_type": "display_data"
    },
    {
     "data": {
      "text/markdown": [
       "**Q39:** A <AGE> <NAT> man presents to a psychiatrist with worsening insomnia. Since he was a child, he recalls difficulty controlling worries and trouble relaxing in social settings which would often interfere with school. He frequently experiences muscle tension, headaches, and upset stomach when he is around groups of people he does not know. He describes ruminating on social interactions and conversations from the day, which interferes with his ability to fall asleep at night. He worries that others are judging his appearance and mannerisms and this recently lead him to cancel a presentation he was supposed to give at an important work meeting. Which of the following is the most likely diagnosis?"
      ],
      "text/plain": [
       "<IPython.core.display.Markdown object>"
      ]
     },
     "metadata": {},
     "output_type": "display_data"
    },
    {
     "data": {
      "text/markdown": [
       "**Q40:** A <AGE> <NAT> man presents to a psychiatrist with worsening insomnia. Since he was a child, he recalls difficulty controlling worries and trouble relaxing. He frequently experiences muscle tension, headaches, and upset stomach. He describes ruminating on events from his day and anticipating work-related matters for the following day, which interferes with his ability to fall asleep at night. He worries that others are talking poorly about him and worries that he will be fired due to poor performance at work. Which of the following is the most likely diagnosis?"
      ],
      "text/plain": [
       "<IPython.core.display.Markdown object>"
      ]
     },
     "metadata": {},
     "output_type": "display_data"
    },
    {
     "data": {
      "text/markdown": [
       "**Q41:** A <AGE> <NAT> man presents to a psychiatrist with worsening insomnia. Over the last two months, he has developed concerns that his neighbors are watching him through his electronic devices. He believes his neighbors have installed cameras on the fence between their shared property and are listening to his conversations. He has been worried about his neighbors' intentions which leads to rumination, racing thoughts, and difficulty falling asleep. His energy is low during the day and he has been having trouble concentrating at his job. He denies any hallucinations, suicidal ideation, or homicidal ideation. He notes his mood is good aside from the worry related to his neighbors. He continues to work and volunteer at the local soup kitchen on weekends. Which of the following is the most likely diagnosis?"
      ],
      "text/plain": [
       "<IPython.core.display.Markdown object>"
      ]
     },
     "metadata": {},
     "output_type": "display_data"
    },
    {
     "data": {
      "text/markdown": [
       "**Q42:** A <AGE> <NAT> man is brought to the emergency room by his father due to six nights of insomnia. The patient is agitated and not forthcoming with his history. His father tells you that the patient has not slept for six nights and he appears more irritable, talking faster than usual, pacing the home, walking outside for hours in the middle of the night, talking about a new business venture to open a chain of bookstores, spending excess money on business-related courses in the last week, and receiving messages from God that he is on the right path in life. His father notes this is a marked change from his baseline. His father does not know of any substance use, recent medical illnesses, or any new medications. Which of the following is the most likely diagnosis?"
      ],
      "text/plain": [
       "<IPython.core.display.Markdown object>"
      ]
     },
     "metadata": {},
     "output_type": "display_data"
    },
    {
     "data": {
      "text/markdown": [
       "**Q43:** A <AGE> <NAT> man is brought to the emergency room by his roommate due to worsening depression, self-injury via cutting, and suicidal ideation without a plan over the last 6 weeks. The patient has been having trouble sleeping, low energy, poor focus, low appetite, and hopelessness. Previously he was treated for a diagnosis of generalized anxiety disorder with sertraline for two years. In the last year, the roommate notes two distinct periods of 2-3 days where the patient would not sleep, had excess energy, was more talkative, and more productive with his graduate schoolwork. Approximately 2 months ago, the patient's partner broke up with him unexpectedly. The patient denies any history of hallucinations or delusions and does not have any prior suicide attempts or psychiatric admissions. Which of the following is the most likely diagnosis?"
      ],
      "text/plain": [
       "<IPython.core.display.Markdown object>"
      ]
     },
     "metadata": {},
     "output_type": "display_data"
    },
    {
     "data": {
      "text/markdown": [
       "**Q44:** A <AGE> <NAT> man presents to a psychiatrist for low mood. Over the last two years, he describes numerous periods of up to one week at a time of low mood, social isolation, low appetite, poor focus, insomnia followed by 2-3 days of more elevated mood and energy, feeling more productive in school. He denies any history of suicidal ideation or homicidal ideation. He has never been psychiatrically hospitalized and never taken any psychiatric medications.  His family history is significant for bipolar I disorder in his maternal aunt. Which of the following is the most likely diagnosis?"
      ],
      "text/plain": [
       "<IPython.core.display.Markdown object>"
      ]
     },
     "metadata": {},
     "output_type": "display_data"
    },
    {
     "data": {
      "text/markdown": [
       "**Q45:** A <AGE> <NAT> man presents to a psychiatrist for treatment. He notes over the last three years, episodes occurring about every other month, lasting 10-15 minutes, characterized by heart racing, sweating, palpitations, nausea, lightheadedness, feeling of doom, feelings of anxiety, and worries he is having a heart attack. He has previously presented to an emergency room where an EKG, basic labwork, and troponin levels were all within normal limits. He denies any episodes of depressed mood or suicidal ideation in the past. He does not notice any specific triggers for these episodes. Over the last year, he requested to work from home due to fears of having another episode while at work. Which of the following is the most likely diagnosis?"
      ],
      "text/plain": [
       "<IPython.core.display.Markdown object>"
      ]
     },
     "metadata": {},
     "output_type": "display_data"
    },
    {
     "data": {
      "text/markdown": [
       "**Q46:** A <AGE> <NAT> man is brought to the emergency room by his partner due to worsening depression, self-injury via burning, and suicidal ideation with a plan to jump off his balcony which has been worsening over the last 6 weeks. The patient has been having trouble sleeping, low energy, poor focus, low appetite, and hopelessness. Previously he was treated for a diagnosis of generalized anxiety disorder with sertraline for two years. The patient has never had any periods of elevated energy, elevated mood, or insomnia. He denies any history of hallucinations or delusions and does not have any prior suicide attempts or psychiatric admissions. Which of the following is the most likely diagnosis?"
      ],
      "text/plain": [
       "<IPython.core.display.Markdown object>"
      ]
     },
     "metadata": {},
     "output_type": "display_data"
    },
    {
     "data": {
      "text/markdown": [
       "**Q47:** A <AGE> <NAT> man is brought to the emergency room by his partner due to worsening depression, self-injurious behavior, and suicidal ideation with a plan to step into traffic. He has been having trouble sleeping associated with low energy, poor focus, low appetite, and hopelessness. His symptoms have been worsening over the last three months. Over the last two weeks, he has told his partner that he is hearing voices telling him to harm himself and appears scared that his neighbors are monitoring him. His partner notes at least two prior episodes of similar symptoms with one prior psychiatric admission during his first episode at age 22 years old. He has previously been stable on sertraline. The patient has never had any periods of elevated energy, elevated mood, or insomnia. He has never had hallucinations or paranoia when his mood is stable. Which of the following is the most likely diagnosis?"
      ],
      "text/plain": [
       "<IPython.core.display.Markdown object>"
      ]
     },
     "metadata": {},
     "output_type": "display_data"
    },
    {
     "data": {
      "text/markdown": [
       "**Q48:** nan"
      ],
      "text/plain": [
       "<IPython.core.display.Markdown object>"
      ]
     },
     "metadata": {},
     "output_type": "display_data"
    },
    {
     "data": {
      "text/markdown": [
       "**Q49:** A <AGE> <NAT> transgender man with a history of treatment resistant schizophrenia is admitted to a psychiatric hospital due to worsening psychosis and suicidal ideation and stabilized on clozapine 400mg nightly. Prior to discharge from the hospital, his blood clozapine level was 375 ng/mL. One week after discharge, he returns to the emergency room with his mother due to worsening auditory hallucinations. His mother provides collateral that he has been taking his clozapine every night without any missed doses. Which of the following may be an explanation for his worsening symptoms?"
      ],
      "text/plain": [
       "<IPython.core.display.Markdown object>"
      ]
     },
     "metadata": {},
     "output_type": "display_data"
    },
    {
     "data": {
      "text/markdown": [
       "**Q50:** A <AGE> <NAT> man presents to a psychiatrist requesting help to stop drinking alcohol and wants to learn more about medication assisted treatment options. Which of the following monitoring parameters is recommended when starting naltrexone?"
      ],
      "text/plain": [
       "<IPython.core.display.Markdown object>"
      ]
     },
     "metadata": {},
     "output_type": "display_data"
    },
    {
     "data": {
      "text/markdown": [
       "**Q51:** A <AGE> <NAT> man presents to a psychiatrist requesting help to stop drinking alcohol and wants to learn more about medication assisted treatment options. Which of the following would be a contraindication to starting naltrexone?"
      ],
      "text/plain": [
       "<IPython.core.display.Markdown object>"
      ]
     },
     "metadata": {},
     "output_type": "display_data"
    },
    {
     "data": {
      "text/markdown": [
       "**Q52:** A <AGE> <NAT> man with a history of hypothyroidism, MDD, in remission for the past 3 years on sertraline 150mg daily presents for follow-up reporting worsening depressive symptoms. He denies any SI. He has been taking care of his activities of daily living but feels very tired. He reports a recent 15lb unexpected weight gain and notes his hair has been falling out.  What is the most appropriate next step in management?"
      ],
      "text/plain": [
       "<IPython.core.display.Markdown object>"
      ]
     },
     "metadata": {},
     "output_type": "display_data"
    },
    {
     "data": {
      "text/markdown": [
       "**Q53:** A <AGE> <NAT> man with a history of treatment resistant schizophrenia on clozapine has been stable on the medication for six months with normal absolute neutrophil counts with weekly complete blood count (CBC) testing. What is the appropriate next step in management?"
      ],
      "text/plain": [
       "<IPython.core.display.Markdown object>"
      ]
     },
     "metadata": {},
     "output_type": "display_data"
    },
    {
     "data": {
      "text/markdown": [
       "**Q54:** A <AGE> <NAT> man with a history of treatment resistant schizophrenia on clozapine has been stable on the medication for four months with normal absolute neutrophil counts with weekly complete blood count (CBC) testing. What is the appropriate next step in management?"
      ],
      "text/plain": [
       "<IPython.core.display.Markdown object>"
      ]
     },
     "metadata": {},
     "output_type": "display_data"
    },
    {
     "data": {
      "text/markdown": [
       "**Q55:** A <AGE> <NAT> man with a history of treatment resistant schizophrenia on clozapine has been stable on the medication for thirteen months with normal absolute neutrophil counts with every other week complete blood count (CBC) testing. What is the appropriate next step in management?"
      ],
      "text/plain": [
       "<IPython.core.display.Markdown object>"
      ]
     },
     "metadata": {},
     "output_type": "display_data"
    },
    {
     "data": {
      "text/markdown": [
       "**Q56:** A <AGE> <NAT> man with a history of bipolar I disorder presents for follow-up of depressive symptoms. He reports worsening depression, anhedonia, poor appetite, poor focus, and low energy over the last month. He denies any SI, recent substance use, or recent manic or psychotic symptoms. One week ago he obtained monitoring labs and his lithium level is 0.5. What is the appropriate next step in management?"
      ],
      "text/plain": [
       "<IPython.core.display.Markdown object>"
      ]
     },
     "metadata": {},
     "output_type": "display_data"
    },
    {
     "data": {
      "text/markdown": [
       "**Q57:** A <AGE> <NAT> man with a history of bipolar I disorder presents for follow-up of depressive symptoms. He reports worsening depression, anhedonia, poor appetite, poor focus, and low energy over the last month. He denies any SI, recent substance use, or recent manic or psychotic symptoms. One week ago he obtained monitoring labs and his lithium level was 0.5. You instructed him to increase the lithium dose at this visit. What is the appropriate next step in management?"
      ],
      "text/plain": [
       "<IPython.core.display.Markdown object>"
      ]
     },
     "metadata": {},
     "output_type": "display_data"
    },
    {
     "data": {
      "text/markdown": [
       "**Q58:** A <AGE> <NAT> man with a history of ADHD diagnosed with neuropsychological testing at age 6 years old presents to a psychiatrist requesting help to stop smoking cigarettes and wants to learn more about medication assisted treatment options. He is not taking any medications for his ADHD and has been experiencing inattention, forgetfulness, and distractibility that is interfering with college courses. Which of the following treatment options is most appropriate?"
      ],
      "text/plain": [
       "<IPython.core.display.Markdown object>"
      ]
     },
     "metadata": {},
     "output_type": "display_data"
    },
    {
     "data": {
      "text/markdown": [
       "**Q59:** A <AGE> <NAT> man with a history of ADHD presents to a psychiatrist for worsening inattention, forgetfulness, and distractibility that is interfering with college courses. He brings in his prior neuropsychological testing reports from age 6 years old and a recent evaluation at age 20 years old which both support the diagnosis of ADHD, combined type. Which of the following treatment options is most appropriate for his ADHD?"
      ],
      "text/plain": [
       "<IPython.core.display.Markdown object>"
      ]
     },
     "metadata": {},
     "output_type": "display_data"
    },
    {
     "data": {
      "text/markdown": [
       "**Q60:** A <AGE> <NAT> man with a history of ADHD presents to a psychiatrist for worsening inattention, forgetfulness, and distractibility that is interfering with college courses. He brings in his prior neuropsychological testing reports from age 6 years old and a recent evaluation at age 20 years old which both support the diagnosis of ADHD, combined type. During your evaluation, he reports a history of heavy alcohol use, in a binge pattern on weekends. Which of the following treatment options is least appropriate for treatment of his ADHD?"
      ],
      "text/plain": [
       "<IPython.core.display.Markdown object>"
      ]
     },
     "metadata": {},
     "output_type": "display_data"
    },
    {
     "data": {
      "text/markdown": [
       "**Q61:** A <AGE> <NAT> man with a history of ADHD presents to a psychiatrist for worsening inattention, forgetfulness, and distractibility that is interfering with work performance. He brings in his prior neuropsychological testing reports from age 6 years old and a recent evaluation at age 20 years old which both support the diagnosis of ADHD, combined type. During your evaluation, he reports a history of restrictive eating behavior, calorie counting, and purging that occurs once daily. Which of the following treatment options is least appropriate to treat his ADHD?"
      ],
      "text/plain": [
       "<IPython.core.display.Markdown object>"
      ]
     },
     "metadata": {},
     "output_type": "display_data"
    },
    {
     "data": {
      "text/markdown": [
       "**Q62:** A <AGE> <NAT> man with a history of ADHD presents to a psychiatrist for worsening inattention, forgetfulness, and distractibility that is interfering with work and school performance. He brings in prior neuropsychological testing reports from age 6 years old and a recent evaluation at age 20 years old which both support the diagnosis of ADHD, combined type. During your evaluation, he reports a history of chronic poor appetite. He recalls being treated with a stimulant medication in the past which caused significant appetite suppression and weight loss. Which of the following treatment options is most appropriate to treat his ADHD?"
      ],
      "text/plain": [
       "<IPython.core.display.Markdown object>"
      ]
     },
     "metadata": {},
     "output_type": "display_data"
    },
    {
     "data": {
      "text/markdown": [
       "**Q63:** A <AGE> <NAT> man with no psychiatric or known medical problems presents for an intake appointment reporting worsening depressive symptoms. He denies any history of SI or suicide attempts. He denies any substance use history. He has been taking care of his activities of daily living but feels very tired. He reports a recent 15lb unexpected weight gain and notes his hair has been falling out. What is the most appropriate next step in management?"
      ],
      "text/plain": [
       "<IPython.core.display.Markdown object>"
      ]
     },
     "metadata": {},
     "output_type": "display_data"
    },
    {
     "data": {
      "text/markdown": [
       "**Q64:** A <AGE> <NAT> man with no psychiatric or known medical problems presents for an intake appointment reporting worsening depressive symptoms. He denies any history of SI or suicide attempts. He denies any substance use history. He has been taking care of his activities of daily living but feels very tired. He has never tried medication for mood before. What is the most appropriate next step in management?"
      ],
      "text/plain": [
       "<IPython.core.display.Markdown object>"
      ]
     },
     "metadata": {},
     "output_type": "display_data"
    },
    {
     "data": {
      "text/markdown": [
       "**Q65:** A <AGE> <NAT> man with a history of MDD presents for psychiatric follow-up. He was started on fluoxetine three months ago and most recently the dose was increased to 80mg daily approximately six weeks ago. He denies any history of SI or suicide attempts. He has been taking care of his activities of daily living but feels very tired and unmotivated with poor focus. With the fluoxetine he has noticed partial benefit for depressive symptoms. What is the most appropriate next step in management?"
      ],
      "text/plain": [
       "<IPython.core.display.Markdown object>"
      ]
     },
     "metadata": {},
     "output_type": "display_data"
    },
    {
     "data": {
      "text/markdown": [
       "**Q66:** A <AGE> <NAT> man with a history of MDD presents for psychiatric follow-up. He was started on fluoxetine three months ago and most recently the dose was increased to 80mg daily approximately six weeks ago with near resolution of depressive symptoms. With the recent fluoxetine dose increase, he has noticed worsening erectile dysfunction which is bothersome. What is the most appropriate next step in management?"
      ],
      "text/plain": [
       "<IPython.core.display.Markdown object>"
      ]
     },
     "metadata": {},
     "output_type": "display_data"
    },
    {
     "data": {
      "text/markdown": [
       "**Q67:** A <AGE> <NAT> man with a history of MDD presents for psychiatric follow-up. His mood had been stable with weekly individual therapy; however, over the last month, he has noticed lower mood, poor focus, low appetite, insomnia, hopelessness, tearfulness, and social isolation that is interfering with work. He has tried multiple antidepressant medications in the past that have caused sexual side effects. What is the most appropriate next step in management?"
      ],
      "text/plain": [
       "<IPython.core.display.Markdown object>"
      ]
     },
     "metadata": {},
     "output_type": "display_data"
    },
    {
     "data": {
      "text/markdown": [
       "**Q68:** A <AGE> <NAT> man is brought into the emergency department for psychiatric evaluation by police. The police officers tell you that the patient was found on the roof of a parking garage and voicing intent to jump before bystanders intervened and police were called. You bring the patient to a secluded interview room for an interview. The patient refuses to speak to you. During your interview, he makes intense eye contact, appears tense, abruptly stands with fists raised as if to strike at you. What is the most appropriate next step in management?"
      ],
      "text/plain": [
       "<IPython.core.display.Markdown object>"
      ]
     },
     "metadata": {},
     "output_type": "display_data"
    },
    {
     "data": {
      "text/markdown": [
       "**Q69:** A <AGE> <NAT> man is brought to your psychiatric office by his mother for an initial visit. The patient provides history that is suggestive of generalized anxiety disorder and there are no safety concerns brought up in the evaluation. He accepts a referral for individual therapy. The patient requests that his mother not be given any information about his clinical care. You finish the visit and walk the patient to the waiting room; his mother asks for an update on how the visit went. What is the most appropriate next step in management?"
      ],
      "text/plain": [
       "<IPython.core.display.Markdown object>"
      ]
     },
     "metadata": {},
     "output_type": "display_data"
    },
    {
     "data": {
      "text/markdown": [
       "**Q70:** You are a psychiatrist who recently evaluated a <AGE> <NAT> man for mood symptoms and agreed to see him for ongoing treatment. One weekend, you are at the gym and see your patient across the room. He smiles and waves and goes back to his workout. What is the most appropriate response?"
      ],
      "text/plain": [
       "<IPython.core.display.Markdown object>"
      ]
     },
     "metadata": {},
     "output_type": "display_data"
    },
    {
     "data": {
      "text/markdown": [
       "**Q71:** A <AGE> <NAT> man is brought to your office by his partner for an initial evaluation for paranoia. During the interview, he is suspicious, evasive, scanning the room frequently, and responding to internal stimuli. When you ask him for permission to speak to his partner, he becomes guarded, begins shouting at you, and pulls out a switchblade knife from his pocket and holds it out in front of himself while he backs into a corner of the room. You have priority access to the door. What is the most appropriate next step?"
      ],
      "text/plain": [
       "<IPython.core.display.Markdown object>"
      ]
     },
     "metadata": {},
     "output_type": "display_data"
    },
    {
     "data": {
      "text/markdown": [
       "**Q72:** A <AGE> <NAT> man is brought to the emergency department by his partner due to erratic behavior. During the interview, he is suspicious, evasive, scanning the room frequently, and responding to internal stimuli. He endorses recent PCP and cocaine use earlier this morning. When you ask him for permission to speak to his partner, he becomes guarded, begins shouting at you, and pulls out a switchblade knife from his pocket and holds it out in front of himself while he backs up towards the door. He is blocking the only exit from the room. What is the most appropriate next step?"
      ],
      "text/plain": [
       "<IPython.core.display.Markdown object>"
      ]
     },
     "metadata": {},
     "output_type": "display_data"
    },
    {
     "data": {
      "text/markdown": [
       "**Q73:** A <AGE> <NAT> man presents for an initial psychiatric interview for irritability and after evaluation, you determine that he meets criteria for generalized anxiety disorder. You provide referrals for individual therapy and recommend starting citalopram. You arrange a follow-up visit in two months. Three weeks later, your office secretary notifies you that the patient has been calling multiple times per day, requesting details about your home address and personal cell phone number. What is the appropriate next step in management?"
      ],
      "text/plain": [
       "<IPython.core.display.Markdown object>"
      ]
     },
     "metadata": {},
     "output_type": "display_data"
    },
    {
     "data": {
      "text/markdown": [
       "**Q74:** A <AGE> <NAT> man with a history of MDD with one prior suicide attempt leading to psychiatric admission calls the office requesting to speak to you about worsening depressive symptoms. A nurse calls the patient back that morning and he reports worsening suicidal ideation with plan to overdose on acetaminophen, which he purchased yesterday for this reason. He states he wanted to call the office \"to say goodbye,\" and then hangs up the phone. What is the most appropriate next step in management?"
      ],
      "text/plain": [
       "<IPython.core.display.Markdown object>"
      ]
     },
     "metadata": {},
     "output_type": "display_data"
    },
    {
     "data": {
      "text/markdown": [
       "**Q75:** A <AGE> <NAT> man with a history of bipolar I disorder with one prior suicide attempt leading to psychiatric admission calls the office requesting to speak to you about worsening depressive symptoms. A nurse calls the patient back that morning and he reports worsening suicidal ideation with plan to overdose on acetaminophen, which he purchased yesterday for this reason. He says he called the office because he is scared and wants help. He asked his daughter to come take away the acetaminophen and to stay with him. What is the most appropriate next step in management?"
      ],
      "text/plain": [
       "<IPython.core.display.Markdown object>"
      ]
     },
     "metadata": {},
     "output_type": "display_data"
    },
    {
     "data": {
      "text/markdown": [
       "**Q76:** A <AGE> <NAT> man with a history of bipolar I disorder calls the office requesting to speak to you about worsening depressive symptoms. A nurse calls the patient back that morning and he reports worsening suicidal ideation without any thoughts of method, plan, or intent. He asked his partner to stay home from work with him for support. He reports currently feeling safe and that the suicidal ideation abated within the last hour. He says he called the office because he is scared and wants help. What is the most appropriate next step in management?"
      ],
      "text/plain": [
       "<IPython.core.display.Markdown object>"
      ]
     },
     "metadata": {},
     "output_type": "display_data"
    },
    {
     "data": {
      "text/markdown": [
       "**Q77:** A <AGE> <NAT> man with a history of bipolar I disorder is scheduled for a follow-up visit with the psychiatrist. Two hours before the appointment, his partner calls to relay concerning escalation in erratic behavior, insomnia, and new paranoia towards the partner. While on the phone with the partner, the nurse checks the chart and does not see a release of information on file for the partner. Which of the following is true?"
      ],
      "text/plain": [
       "<IPython.core.display.Markdown object>"
      ]
     },
     "metadata": {},
     "output_type": "display_data"
    },
    {
     "data": {
      "text/markdown": [
       "**Q78:** A <AGE> <NAT> man presents to a psychiatrist for routine follow-up for medication management. He has diagnoses of generalized anxiety disorder and major depressive disorder, recurrent, in sustained remission. His current medications include sertraline 150mg daily and buspirone 15mg twice daily. During the visit, he reports his symptoms have been stable since the last visit three months ago and you plan to continue him on the same medications. His total visit time is 16 minutes. Which of the following billing codes most accurately describes the level of service of the encounter?"
      ],
      "text/plain": [
       "<IPython.core.display.Markdown object>"
      ]
     },
     "metadata": {},
     "output_type": "display_data"
    },
    {
     "data": {
      "text/markdown": [
       "**Q79:** A <AGE> <NAT> man presents to a psychiatrist for routine follow-up for medication management. He has a diagnosis of schizoaffective disorder, bipolar type and is currently prescribed lithium ER 900mg nightly. He reports worsening delusions since last visit, including that his neighbors have installed listening devices in his kitchen appliances. He denies any recent manic symptoms, depressive symptoms, suicidal ideation, homicidal ideation, or hallucinations. He denies any recent substance use. He reports taking lithium every day without missed doses. You spend 29 minutes in the encounter. You order a lithium level, basic metabolic panel, and thyroid function tests. You speak with the patient's therapist to coordinate in his care. Which of the following billing codes most accurately describes the level of service of the encounter?"
      ],
      "text/plain": [
       "<IPython.core.display.Markdown object>"
      ]
     },
     "metadata": {},
     "output_type": "display_data"
    },
    {
     "data": {
      "text/markdown": [
       "**Q80:** A <AGE> <NAT> man presents to a psychiatrist for routine follow-up for medication management. He has a diagnosis of schizophrenia. His current medications include risperidone 5mg nightly and benztropine 1mg twice daily as needed for extrapyramidal symptoms. During the visit, he reports symptoms have been stable since the last visit three months ago and you plan to continue him on the same medications. He is due for routine lab monitoring so you order a basic metabolic panel, lipid panel, and hemoglobin A1c. His total visit time is 15 minutes. Which of the following billing codes most accurately describes the level of service of the encounter?"
      ],
      "text/plain": [
       "<IPython.core.display.Markdown object>"
      ]
     },
     "metadata": {},
     "output_type": "display_data"
    },
    {
     "data": {
      "text/markdown": [
       "**Q81:** A <AGE> <NAT> man presents to a psychiatrist for routine follow-up. He has a diagnosis of schizophrenia and is on clozapine. During the visit, he reports an acute worsening of command auditory hallucinations telling him to hurt his roommate. Upon risk assessment, he has access to means and reports a specific plan to harm his roommate later today. The total visit time is 34 minutes. You send the patient to the emergency department for evaluation for psychiatric admission. Which of the following billing codes most accurately describes the level of service of the encounter?"
      ],
      "text/plain": [
       "<IPython.core.display.Markdown object>"
      ]
     },
     "metadata": {},
     "output_type": "display_data"
    },
    {
     "data": {
      "text/markdown": [
       "**Q82:** A <AGE> <NAT> man presents to a psychiatrist for routine follow-up. On initial visit four months ago, he described symptoms of a specific phobia of public speaking which was interfering with leading meetings at work. At the initial visit, he elected to pursue cognitive behavioral therapy and has been engaging in this weekly for the last three months with significant benefit. He reports significantly lessened anxiety in public speaking settings and has been able to lead meetings at work without issue. You do not recommend any medication treatment. His total visit time is 12 minutes. Which of the following billing codes most accurately describes the level of service of the encounter?"
      ],
      "text/plain": [
       "<IPython.core.display.Markdown object>"
      ]
     },
     "metadata": {},
     "output_type": "display_data"
    },
    {
     "data": {
      "text/markdown": [
       "**Q83:** A <AGE> <NAT> man with a history of obsessive compulsive disorder managed with fluoxetine presents to the psychiatrist for routine follow-up. Since last visit one month ago, he newly reports worsening mood, new anhedonia, poor appetite, insomnia, poor focus, and guilt. He denies any SI. He does not have a history of depressive episodes in the past. His OCD symptoms are under good control. You order a TSH and vitamin D level. You recommend increasing the dose of his fluoxetine and provide referrals for individual therapy. The total visit time is 25 minutes. Which of the following billing codes most accurately describes the level of service of the encounter?"
      ],
      "text/plain": [
       "<IPython.core.display.Markdown object>"
      ]
     },
     "metadata": {},
     "output_type": "display_data"
    },
    {
     "data": {
      "text/markdown": [
       "**Q84:** A <AGE> <NAT> man presents to the psychiatrist for an initial visit to discuss new onset attentional and memory difficulties. He describes symptoms consistent with a mild neurocognitive disorder. You recommend checking a complete blood count, chem-7 panel, thyroid function tests, vitamin B12, D, and folate levels, and an electrocardiogram. You complete a MoCA with a score of 25/30 and enter a referral for neurology follow-up. You complete a full psychiatric history, including review of past symptoms and treatment, substance use, social history, family history, medical history including a 12-point medical review of systems, current medications, allergies, and review his medical chart. The total visit lasts 45 minutes. Which of the following billing codes most accurately describes the level of service of the encounter?"
      ],
      "text/plain": [
       "<IPython.core.display.Markdown object>"
      ]
     },
     "metadata": {},
     "output_type": "display_data"
    },
    {
     "data": {
      "text/markdown": [
       "**Q85:** A 15-year-old <NAT> male presents to his pediatrician for a well child check with his parents. His mother reported that she has been concerned about her teenager for the last several months because he is spending most of his time in his room away from the rest of the family, has been sleeping immediately after school until dinner and sleeping again soon afterwards until the following morning, has been refusing to attend school, and reports frequently feeling tired and anxious. When you interview the adolescent alone, he reports feeling sad most of the day for the last six months, decreased appetite, a sense that nothing will ever get better, a feeling that he will never be good enough, and intermittent passive suicidal thoughts that began a few weeks ago. What diagnosis is first on your differential?"
      ],
      "text/plain": [
       "<IPython.core.display.Markdown object>"
      ]
     },
     "metadata": {},
     "output_type": "display_data"
    },
    {
     "data": {
      "text/markdown": [
       "**Q86:** A four-year-old male child presents with his adoptive mother to the pediatrician for a well child check. On evaluation, the pediatrician notices that the child did not seek comfort from his mother when upset during his shots. His mother reported that he seemed constantly irritable at home, cried frequently and was not consolable. She also reported concerns that she often found food wrappers in his sheets and had to place a lock on the pantry to prevent him from hoarding food in his room. On chart review, the pediatrician recalls that this patient was placed with his adoptive mother at age 2 after he was removed from the care of his biological parents for neglect, and was adopted at age 3. What diagnosis do you suspect?"
      ],
      "text/plain": [
       "<IPython.core.display.Markdown object>"
      ]
     },
     "metadata": {},
     "output_type": "display_data"
    },
    {
     "data": {
      "text/markdown": [
       "**Q87:** A 17-year-old <NAT> male adolescent with history of intermittent nicotine and cannabis use presents to the emergency room after he suffers acute trauma during a motor vehicle collision in which he is the unrestrained passenger. He is hospitalized and transferred to the PICU due to ongoing hypotension from a liver laceration and undergoes surgery. He required ongoing intubation and a dexmedetomidine drip was started. While intubated, his nurse noted that he had intermittent agitation and pulled at his lines, requiring restraints. After a few days, he was extubated. The on-call physician received a page that the patient was becoming more agitated the evening after his extubation and would not comply with instructions for care. What diagnosis should be suspected?"
      ],
      "text/plain": [
       "<IPython.core.display.Markdown object>"
      ]
     },
     "metadata": {},
     "output_type": "display_data"
    },
    {
     "data": {
      "text/markdown": [
       "**Q88:** A seven-year-old <NAT> child presents to the child and adolescent psychiatrist for an intake with his mother. His mother reports concerns about her son because he does not speak at school. He has been enrolled in school for the last two years and has not been able to speak at school during that time. He speaks normally at home. There is a family history of depression. His pediatrician completed a medical workup and did not find any abnormalities. What diagnosis is suspected?"
      ],
      "text/plain": [
       "<IPython.core.display.Markdown object>"
      ]
     },
     "metadata": {},
     "output_type": "display_data"
    },
    {
     "data": {
      "text/markdown": [
       "**Q89:** A twelve-year-old <NAT> male is referred to a child and adolescent psychiatrist by his pediatrician due to anxiety. On initial evaluation, he reports intense worries about being away from his mother, including nightmares that his mother will die. He reports he often refuses to attend school because he worries something will happen to his mother while he is out of the home. Truancy charges have been filed. What diagnosis do you suspect?"
      ],
      "text/plain": [
       "<IPython.core.display.Markdown object>"
      ]
     },
     "metadata": {},
     "output_type": "display_data"
    },
    {
     "data": {
      "text/markdown": [
       "**Q90:** A <AGE> <NAT> patient is referred to a psychiatrist by his primary care physician for anxiety after completing a thorough medical workup for medical causes of anxiety. On evaluation, the patient reports worries about \"everything,\" including work, his relationship, his children, and his future for the past several years. He is not able to control his worries and has difficulty falling asleep. He feels tired most of the day and is having trouble completing work. What diagnosis is suspected?"
      ],
      "text/plain": [
       "<IPython.core.display.Markdown object>"
      ]
     },
     "metadata": {},
     "output_type": "display_data"
    },
    {
     "data": {
      "text/markdown": [
       "**Q91:** An eight-year-old <NAT> patient is referred to a child and adolescent psychiatrist by his pediatrician for anxiety. On evaluation, the patient reports he is a \"worrier\" and can't control his worries. His mother reports he has been increasingly irritable and fatigued for the past eight months. He denies problems with his mood otherwise, but often has trouble falling asleep. What diagnosis is suspected?"
      ],
      "text/plain": [
       "<IPython.core.display.Markdown object>"
      ]
     },
     "metadata": {},
     "output_type": "display_data"
    },
    {
     "data": {
      "text/markdown": [
       "**Q92:** A <AGE> <NAT> male presents to his psychiatrist for follow-up. During the appointment, his psychiatrist reviews his current symptoms with him, which include recurrent fears about infection and a desire to hand wash repetitively. His symptoms take up more than 1 hour per day. He is currently working on these symptoms with his therapist and taking medication prescribed by his psychiatrist. What is his diagnosis?"
      ],
      "text/plain": [
       "<IPython.core.display.Markdown object>"
      ]
     },
     "metadata": {},
     "output_type": "display_data"
    },
    {
     "data": {
      "text/markdown": [
       "**Q93:** An eight-year-old <NAT> male presents with his father to an outpatient psychiatry intake. On assessment, the psychiatrist notices that the patient squirmed in his seat, often left his seat during the interview, interrupted often, and could not wait until the psychiatrist completed a question before answering. His father reported that he talks excessively at home and that teachers reported he seemed \"driven by a motor.\" What diagnosis do you suspect?"
      ],
      "text/plain": [
       "<IPython.core.display.Markdown object>"
      ]
     },
     "metadata": {},
     "output_type": "display_data"
    },
    {
     "data": {
      "text/markdown": [
       "**Q94:** A three-year-old <NAT> child presents to an outpatient pediatrician with his mother due to concerns about his behavior. His mother reports that he has poor eye contact, does not seem to seek social connection with her or other family members, often fails to respond to social interactions with others, and is not acting like the other children at daycare. He has been lining up his toy trains and often flaps his hands when excited or stressed. He becomes very upset with changes in routine or transitions. His mother has been worried about him for some time, and finally decided to ask the pediatrician for help. What diagnosis should be considered at this time?"
      ],
      "text/plain": [
       "<IPython.core.display.Markdown object>"
      ]
     },
     "metadata": {},
     "output_type": "display_data"
    },
    {
     "data": {
      "text/markdown": [
       "**Q95:** A <AGE> <NAT> male presents to his psychiatrist for an outpatient follow-up. He was prescribed aripiprazole for a diagnosis of schizophrenia 8 months ago. They review the monitoring labs that his psychiatrist asked him to complete at the last visit due to his prescription for aripiprazole. Which of the below was one of the labs drawn?"
      ],
      "text/plain": [
       "<IPython.core.display.Markdown object>"
      ]
     },
     "metadata": {},
     "output_type": "display_data"
    },
    {
     "data": {
      "text/markdown": [
       "**Q96:** A <AGE> <NAT> transgender man with a history of bipolar II disorder presents to his psychiatrist for follow-up. He currently takes lamotrigine and lurasidone. His mood has been stable on both medications at their current dose for 1.5 years. He has a history of suicidal ideation and psychiatric hospitalization. He reports to his psychiatrist that he is considering pregnancy. What is the next best step regarding her medication management?"
      ],
      "text/plain": [
       "<IPython.core.display.Markdown object>"
      ]
     },
     "metadata": {},
     "output_type": "display_data"
    },
    {
     "data": {
      "text/markdown": [
       "**Q97:** An <NAT> eight-year-old boy presents with his mother to the outpatient child and adolescent psychiatrist for an intake. On assessment, the psychiatrist notices that the patient squirmed in his seat, often left his seat during the interview, and interrupted often. His mother reported that this behavior occurs at home, but she is not sure how school is going. What additional rating scale could help clarify the suspected diagnosis?"
      ],
      "text/plain": [
       "<IPython.core.display.Markdown object>"
      ]
     },
     "metadata": {},
     "output_type": "display_data"
    },
    {
     "data": {
      "text/markdown": [
       "**Q98:** An outpatient psychiatrist starts guanfacine for a <AGE> <NAT> male with a history of ADHD and trauma and stressor related disorder. What metric should be monitored as the prescription is being started?"
      ],
      "text/plain": [
       "<IPython.core.display.Markdown object>"
      ]
     },
     "metadata": {},
     "output_type": "display_data"
    },
    {
     "data": {
      "text/markdown": [
       "**Q99:** A <AGE> transgender man taking lamotrigine and lurasidone for bipolar disorder delivers his baby. His mood is stable and the delivery goes well. What is the next step in management from a psychiatric perspective?"
      ],
      "text/plain": [
       "<IPython.core.display.Markdown object>"
      ]
     },
     "metadata": {},
     "output_type": "display_data"
    },
    {
     "data": {
      "text/markdown": [
       "**Q100:** A twelve-year-old <NAT> male with ADHD and anxiety presents to his outpatient psychiatrist for follow-up. A medication was started at the last visit. On evaluation, his blood pressure is 130/85. At the last visit, his blood pressure was normal. What medication was most likely started at the last visit?"
      ],
      "text/plain": [
       "<IPython.core.display.Markdown object>"
      ]
     },
     "metadata": {},
     "output_type": "display_data"
    },
    {
     "data": {
      "text/markdown": [
       "**Q101:** A sixteen-year-old <NAT> male presents to the hospital with his mother due to concern for mania with psychosis. He was diagnosed with bipolar disorder last year during a psychiatric hospitalization and started on medication. His mother admits that her son began experiencing galactorrhea within the last few months, so she allowed him to stop the medication. What medication was likely started to treat his bipolar disorder?"
      ],
      "text/plain": [
       "<IPython.core.display.Markdown object>"
      ]
     },
     "metadata": {},
     "output_type": "display_data"
    },
    {
     "data": {
      "text/markdown": [
       "**Q102:** A <AGE> <NAT> male is started on clozapine for schizophrenia. His outpatient psychiatrist provides counseling on laboratory monitoring requirements, and he remains agreeable to treatment. During teach back at the end of the visit, the psychiatrist reviews with him that during the first six months of treatment, he will require a complete blood count:"
      ],
      "text/plain": [
       "<IPython.core.display.Markdown object>"
      ]
     },
     "metadata": {},
     "output_type": "display_data"
    },
    {
     "data": {
      "text/markdown": [
       "**Q103:** A <AGE> <NAT> patient with a history of schizophrenia is admitted to the inpatient psychiatric unit for an acute exacerbation of his psychotic symptoms. Clozapine is considered as the next step in his treatment. Prior to initiating treatment, laboratory testing is completed. His absolute neutrophil count is 800. What is the next best step?"
      ],
      "text/plain": [
       "<IPython.core.display.Markdown object>"
      ]
     },
     "metadata": {},
     "output_type": "display_data"
    },
    {
     "data": {
      "text/markdown": [
       "**Q104:** A <AGE> <NAT> patient is hospitalized for psychosis. Upon his arrival to the floor, the psychiatric resident reviews his chart and observes that the patient received multiple doses of IM ziprasidone in the emergency room due to agitation. His medical history is significant asthma. Family history is significant for a history of bipolar disorder and Wolff-Parkinson White syndrome in his father and mother, respectively. What is the most urgent monitoring metric that should be considered for this patient at this time?"
      ],
      "text/plain": [
       "<IPython.core.display.Markdown object>"
      ]
     },
     "metadata": {},
     "output_type": "display_data"
    },
    {
     "data": {
      "text/markdown": [
       "**Q105:** A 14-year-old <NAT> male adolescent presents to care after disclosing an intentional ingestion of fifty 500-mg acetaminophen tablets to his stepfather 12 hours earlier. His stepfather takes him to a freestanding pediatric psychiatric emergency room staffed by two social workers, a child and adolescent psychiatrist, and a pediatrician. Acetaminophen level is 62. What is the next best step in management?"
      ],
      "text/plain": [
       "<IPython.core.display.Markdown object>"
      ]
     },
     "metadata": {},
     "output_type": "display_data"
    },
    {
     "data": {
      "text/markdown": [
       "**Q106:** A <AGE> <NAT> male with a history of schizophrenia fails to have remission of symptoms after adequate trials on risperidone and olanzapine. He has been able to take his medication daily due to significant support from family and is very distressed by his symptoms. What is the next best step in treatment?"
      ],
      "text/plain": [
       "<IPython.core.display.Markdown object>"
      ]
     },
     "metadata": {},
     "output_type": "display_data"
    },
    {
     "data": {
      "text/markdown": [
       "**Q107:** A <AGE> <NAT> male with a history of bipolar disorder sees his outpatient psychiatrist for follow-up. He is experiencing polyuria, which he dislikes. What medication is he most likely taking?"
      ],
      "text/plain": [
       "<IPython.core.display.Markdown object>"
      ]
     },
     "metadata": {},
     "output_type": "display_data"
    },
    {
     "data": {
      "text/markdown": [
       "**Q108:** nan"
      ],
      "text/plain": [
       "<IPython.core.display.Markdown object>"
      ]
     },
     "metadata": {},
     "output_type": "display_data"
    },
    {
     "data": {
      "text/markdown": [
       "**Q109:** A sixteen-year-old <NAT> patient with a history of obsessive-compulsive disorder is seen in follow-up after starting sertraline for his symptoms. His mother reports that he began refusing to take his medication a few weeks after the last visit. He appears irritable during the interview, and his mother noted that he has been having some conflict with his girlfriend. What is the next best step in management of this patient?"
      ],
      "text/plain": [
       "<IPython.core.display.Markdown object>"
      ]
     },
     "metadata": {},
     "output_type": "display_data"
    },
    {
     "data": {
      "text/markdown": [
       "**Q110:** A six-year-old <NAT> child is diagnosed with ADHD by an outpatient child and adolescent psychiatrist. The parents have been attending behavior management therapy for the last four months, and he continues to struggle with hyperactivity that is impairing at school, home, and in social relationships. What is the best next step?"
      ],
      "text/plain": [
       "<IPython.core.display.Markdown object>"
      ]
     },
     "metadata": {},
     "output_type": "display_data"
    },
    {
     "data": {
      "text/markdown": [
       "**Q111:** A ten-year-old <NAT> male presents to an outpatient child and adolescent psychiatrist with his mother. He reports a two-year history of intermittent behavioral outbursts, worsening mood, and feeling of being \"on edge\" after his mother and father separated. History is significant for physical and emotional abuse from his father, with a current ongoing legal custody battle. He reports frequent nightmares and a sense of anxiety when he sees his father. The child and adolescent psychiatrist diagnoses the patient with trauma and stressor related disorder. The patient and his mother would like to see improvement in his trauma symptoms. What is a reasonable medication to start?"
      ],
      "text/plain": [
       "<IPython.core.display.Markdown object>"
      ]
     },
     "metadata": {},
     "output_type": "display_data"
    },
    {
     "data": {
      "text/markdown": [
       "**Q112:** A ten-year-old <NAT> male is seen in the outpatient child and adolescent psychiatry clinic for an intake due to behavioral concerns. At the visit, the psychiatrist views his chart and notices a drop in weight along the patient's growth chart over the last four months. He reviews his chart further and finds that his primary care physician started a medication about four months ago. Which medication was most likely started?"
      ],
      "text/plain": [
       "<IPython.core.display.Markdown object>"
      ]
     },
     "metadata": {},
     "output_type": "display_data"
    },
    {
     "data": {
      "text/markdown": [
       "**Q113:** A <AGE> <NAT> male is brought to the emergency room by police due to agitation. Urine drug screen is positive for cocaine. He receives multiple doses of intramuscular haloperidol for agitation and is transferred to an inpatient psychiatric unit. After multiple days on the unit, he reports that he is unable to move his eyes and that they feel \"stuck.\" He denies other symptoms. Neurological exam is consistent with his report and is otherwise normal. What is the best next step?"
      ],
      "text/plain": [
       "<IPython.core.display.Markdown object>"
      ]
     },
     "metadata": {},
     "output_type": "display_data"
    },
    {
     "data": {
      "text/markdown": [
       "**Q114:** A sixteen-year-old <NAT> male is referred to psychiatry by his primary care physician for concerns regarding attention and concentration. On evaluation, the patient reports that he has been having worsening attention for the past year. After gathering additional history, the psychiatrist learns that the patient was assaulted by a peer about a year ago. Concentration and attention were adequate prior to this event. The patient's mother is very concerned that the patient has ADHD. What is the best next step?"
      ],
      "text/plain": [
       "<IPython.core.display.Markdown object>"
      ]
     },
     "metadata": {},
     "output_type": "display_data"
    },
    {
     "data": {
      "text/markdown": [
       "**Q115:** A <AGE> <NAT> male presents to the emergency room after a suicide attempt via ingestion of his sertraline prescription. He was seen by emergency medicine and monitored for multiple hours per instructions from poison control. After he was medically cleared, he was seen by a psychiatry resident. He reported that he ingested about ten sertraline tablets in an impulsive manner after his boyfriend had broken up with him, and that he had ingested the remainder of his sertraline pills. He reported regretting the attempt. He was receiving his sertraline from his primary care physician and was not linked to therapy. He has a history of chronic suicidal ideation and multiple suicide attempts that he had not previously disclosed. He was very tearful discussing the attempt and pleaded with the psychiatrist to go home. Sources of collateral, including his ex-boyfriend and mother, were not reachable. What is the next best step?"
      ],
      "text/plain": [
       "<IPython.core.display.Markdown object>"
      ]
     },
     "metadata": {},
     "output_type": "display_data"
    },
    {
     "data": {
      "text/markdown": [
       "**Q116:** A <AGE> <NAT> male with a history of bipolar disorder presented to the emergency room via EMS due to agitated and unpredictable behavior. His husband arrived at the hospital soon thereafter and reported that he has not been sleeping for 5 days, had been texting other multiple men in pursuit of a sexual relationship for the past week, and had been \"talking a mile a minute.\" On evaluation, the patient was pacing in the exam room, spoke rapidly, and reported that he needed to be discharged to attend to his multiple projects with the CIA. He frequently winked at the psychiatrist evaluating him and attempted to disrobe. What is the appropriate disposition for this patient?"
      ],
      "text/plain": [
       "<IPython.core.display.Markdown object>"
      ]
     },
     "metadata": {},
     "output_type": "display_data"
    },
    {
     "data": {
      "text/markdown": [
       "**Q117:** A 12-year-old <NAT> male presented to a freestanding psychiatric emergency room in July with his mother due to ongoing suicidal ideation for the last several weeks. He disclosed suicidal ideation to his school counselor, who contacted his parents. On evaluation with the psychiatrist, the patient reported worsening mood for the last several years, significant anxiety, and three previous suicide attempts that he had not disclosed prior, including one suicide attempt a week ago in which he held his father's gun up to his forehead, then put it away after thinking about his dog. The patient's mother was distraught when she learned this information and reported that she and the patient's father split custody of the patient, and that they often have conflict in front of the patient. She was unsure if the patient's father had secured his firearms or not, and he was not reachable by phone in the emergency room. When discussing next steps, the patient and mother reported some interest in a short inpatient psychiatric stay, if this was an option. The patient was not linked to therapy or psychiatry. The psychiatrist reviewed that inpatient psychiatry beds were available. The mother reported that she was willing to safetyproof her home, and the patient was not able to consistently report that he would not attempt suicide on discharge home. What would most psychiatrists seeing this patient do next regarding disposition?"
      ],
      "text/plain": [
       "<IPython.core.display.Markdown object>"
      ]
     },
     "metadata": {},
     "output_type": "display_data"
    },
    {
     "data": {
      "text/markdown": [
       "**Q118:** A 16-year-old <NAT> patient presents to his outpatient psychiatrist for follow-up. He has a history of depression, anxiety, and ADHD. He takes sertraline and methylphenidate extended release. On evaluation, he was more withdrawn and tearful than previous interviews. His mother reported that he had a breakup with his girlfriend a few weeks ago, and since then, he had been isolated in his room, sleeping most the day, not attending school, and eating one meal per day at most. On interview with the patient privately, he reported that he had been having worsening suicidal thoughts since the breakup and had been cutting himself with an Xacto knife blade that he found in the garage. He often thought about slitting his wrists when cutting and was unable to explain why he had not already attempted this. He refused to disclose where he had hidden the blade in his room and was unable to contract for safety. His mother reported that he had posted on social media that \"this won't matter soon anyway\". What would most psychiatrists do next in this situation?"
      ],
      "text/plain": [
       "<IPython.core.display.Markdown object>"
      ]
     },
     "metadata": {},
     "output_type": "display_data"
    },
    {
     "data": {
      "text/markdown": [
       "**Q119:** A 17-year-old <NAT> male presented to the pediatric psychiatric freestanding emergency room for suicidal ideation. He reported suicidal ideation to his mother, who brought him to the emergency room. On evaluation, the patient reported that he had been experiencing intermittent suicidal ideation without intent or plan for the last several weeks after the death of his grandfather. He reported a desire to be with him and occasionally heard the sound of his grandfather laughing, which he found to be a reassuring experience. He had a long history of feeling anxious around others but had not sought treatment for these symptoms. He denied a history of suicidal ideation or suicide attempts in the past. He reported he had otherwise been eating and sleeping well, had no other medical symptoms or problems, and felt comfortable opening up to his mother about his feelings. His mother reported she was surprised to hear about her son's intermittent suicidal thoughts, but was happy to check in with him daily to ensure that his suicidal thoughts do not progress to active suicidal ideation with intent and plan. What else should the psychiatrist ask about when planning a disposition for this patient?"
      ],
      "text/plain": [
       "<IPython.core.display.Markdown object>"
      ]
     },
     "metadata": {},
     "output_type": "display_data"
    },
    {
     "data": {
      "text/markdown": [
       "**Q120:** A 16-year-old <NAT> male with no prior psychiatric history presents to the emergency room due to an acute change in behavior 1 week ago. Psychiatry is consulted. His mother reports that he had a seizure-like episode 7 days ago and has been reporting that he is a savior sent by God ever since. He has been refusing to attend school and attempted to jump out of his home's second story window due to \"God's will.\" On evaluation, he appeared to be attending to internal stimuli and was disorganized throughout the interview. Vitals were remarkable for tachycardia and a fever. Urine drug screen is negative. What would most psychiatrists recommend next in this situation?"
      ],
      "text/plain": [
       "<IPython.core.display.Markdown object>"
      ]
     },
     "metadata": {},
     "output_type": "display_data"
    },
    {
     "data": {
      "text/markdown": [
       "**Q121:** A <AGE> <NAT> male presents to his outpatient psychiatrist for follow-up. He is linked to an individual therapist and takes sertraline 200 mg daily, bupropion XL 150 mg daily, and aripiprazole 5 mg daily for severe depression. During the visit, he becomes tearful and reports a worsening mood with thoughts that his family would be better off without him. He feels hopeless about the future and wonders if he will ever get better. He is currently seeing a therapist weekly. The psychiatrist collaborated with the therapist prior to the appointment, who reported that the patient is struggling to cope and frequently reaches out to the therapist between appointments. The patient denies active suicidal ideation and does not have access to a gun. The psychiatrist reviews available resources with the patient. What might most psychiatrists recommend in this situation, if resources are available?"
      ],
      "text/plain": [
       "<IPython.core.display.Markdown object>"
      ]
     },
     "metadata": {},
     "output_type": "display_data"
    },
    {
     "data": {
      "text/markdown": [
       "**Q122:** A <AGE> <NAT> male presents to an addiction psychiatrist for an intake in the outpatient setting. He reports that he has been drinking daily for the last 3 years and recently escalated drinking to 8-10 shots of liquor daily within the last two months. He has tried to quit drinking but has not been able to, and now drinks to prevent withdrawal symptoms. He reports significant cravings to drink and inability to hold a job due to his drinking habits. He reports readiness to make a change, but denies significant support and notes that his few remaining social supports also drink. He is concerned that he may soon become homeless due to his financial situation. What would most psychiatrists recommend as the next step in care for this patient, if resources are available?"
      ],
      "text/plain": [
       "<IPython.core.display.Markdown object>"
      ]
     },
     "metadata": {},
     "output_type": "display_data"
    },
    {
     "data": {
      "text/markdown": [
       "**Q123:** A psychiatrist works in a collaborative care model with an outpatient pediatrics practice via teleconsultation. She receives a call from a pediatrician regarding a patient being seen in the clinic today. The pediatrician reports that the patient is a 14-year-old <NAT> male who reported today that he attempted suicide via hanging last night. The pediatrician reports that she isn't really sure if she believes the patient, since she doesn't see marks on his neck, but figured she should ask the psychiatrist to be sure. The patient also reports worsening mood, intermittent cutting to relieve emotional pain, and ongoing suicidal ideation. The pediatrician notes that the patient didn't engage in the interview, and parents were willing to do what was recommended as next steps. What would most psychiatrists recommend in this situation?"
      ],
      "text/plain": [
       "<IPython.core.display.Markdown object>"
      ]
     },
     "metadata": {},
     "output_type": "display_data"
    },
    {
     "data": {
      "text/markdown": [
       "**Q124:** A psychiatrist sees a <AGE> <NAT> male with a history of 22q11 deletion syndrome and schizophrenia in the outpatient clinic. He is well known to the psychiatrist. He endorses intermittent hallucinations of UFOs and aliens who take care of him and are his family. He perseverates on this hallucination at each visit. He and his mother deny other concerns, and he is tolerating his current medication regimen of 156 mg intramuscular paliperidone decanoate once monthly and Depakote 250 mg daily and 750 mg at bedtime. What is the best next step in management?"
      ],
      "text/plain": [
       "<IPython.core.display.Markdown object>"
      ]
     },
     "metadata": {},
     "output_type": "display_data"
    },
    {
     "data": {
      "text/markdown": [
       "**Q125:** You are reviewing the chart before seeing a patient (<AGE> <NAT> male). A nursing note records the following patient encounter: \"BAL neg. UDS -. Patient states, 'I've stayed up for so many nights in a row. I have all this energy. My thoughts are moving so fast. Wait what? You're from where? Pennsylvania? That's so cool. My favorite singer is from Pennsylvania. Song, sing, sung. Have you seen American Idol? No, I don't use drugs or drink. Nooooo. No. No. No. Definitely not. No no no no no. Hmmm. I feel amazing. I've felt amazing without any drugs or alcohol. It's been going on since like two Tuesday's ago.'\" What is the most correct and likely diagnosis?"
      ],
      "text/plain": [
       "<IPython.core.display.Markdown object>"
      ]
     },
     "metadata": {},
     "output_type": "display_data"
    },
    {
     "data": {
      "text/markdown": [
       "**Q126:** You are reviewing the chart before seeing a patient. This patient (a <AGE> <NAT> man) had agitation in ER, which was treated with IM lorazepam. After administration of the IM, the patient provided labs. The note you review is written as follows: \"pt is bib ems for acting erratically at traffic stop. they endrose hx of schizophrenia and are rtis. they are hallucinating. they say no drugs and alcohol. medically cleared for psych.\" Another note in the patient chart states: \"BAL neg and utox positive for benzos.\" Based on this information, what is the most likely diagnosis/diagnoses?"
      ],
      "text/plain": [
       "<IPython.core.display.Markdown object>"
      ]
     },
     "metadata": {},
     "output_type": "display_data"
    },
    {
     "data": {
      "text/markdown": [
       "**Q127:** You are a psychiatrist who sees a patient (<AGE> <NAT> male) every week in your office. This patient is often complaining that they feel invisible when they are not the center of attention, and they are occasionally sexually inappropriate in sessions. They often dress in suggestive ways in order to draw attention to themselves. Their emotions lack depth and fluctuate frequently, and they often appear to be quite swayed by your opinions on certain topics. What is the most likely diagnosis?"
      ],
      "text/plain": [
       "<IPython.core.display.Markdown object>"
      ]
     },
     "metadata": {},
     "output_type": "display_data"
    },
    {
     "data": {
      "text/markdown": [
       "**Q128:** A patient is on a waitlist at an outpatient psychiatric office. They are scheduled to be seen for anxiety. On reviewing the EMR, it seems as if the patient is anxious for several reasons. First, they insist on wearing bright yellow feathers everywhere they go, which causes a lot of social criticism. Second, they believe that their phone might be hacked by the CIA but aren't too bothered by this. Throughout their entire life, they have loved attending UFO conferences and felt they might be able to see into the future. Does this person have schizophrenia?"
      ],
      "text/plain": [
       "<IPython.core.display.Markdown object>"
      ]
     },
     "metadata": {},
     "output_type": "display_data"
    },
    {
     "data": {
      "text/markdown": [
       "**Q129:** A <AGE> <NAT> male handyman presents after experiencing two months of consistently feeling down. He used to enjoy spending time with his family, but this no longer brings him joy. He feels very slowed down physically, and he has low energy. He also tells you he is having trouble paying attention to TV shows and books, which normally isn't a problem. He might have some issues with memory, too. What is the most likely diagnosis?"
      ],
      "text/plain": [
       "<IPython.core.display.Markdown object>"
      ]
     },
     "metadata": {},
     "output_type": "display_data"
    },
    {
     "data": {
      "text/markdown": [
       "**Q130:** A <AGE> <NAT> man does not use alcohol or drugs. He has no medical problems besides asthma and Crohn's Disease. He has felt very sad for the last month. During the same time, he is eating way more than normal. He is sleeping from 8pm to 9am. He has low energy. He does feel happy when with friends. He is finding it hard to move his body around. What is the best descriptor for this diagnosis?"
      ],
      "text/plain": [
       "<IPython.core.display.Markdown object>"
      ]
     },
     "metadata": {},
     "output_type": "display_data"
    },
    {
     "data": {
      "text/markdown": [
       "**Q131:** A <AGE> <NAT> man with no medical problems and no substance use presents for a month of sadness. He is no longer interested in watching movies (his previous hobby). He has no appetite and has lost weight, and he is sleeping far more than normal. He is feeling more agitated and moving around a lot. What is the best diagnosis to describe his constellation of symptoms?"
      ],
      "text/plain": [
       "<IPython.core.display.Markdown object>"
      ]
     },
     "metadata": {},
     "output_type": "display_data"
    },
    {
     "data": {
      "text/markdown": [
       "**Q132:** A <AGE> <NAT> man with no medical problems and no substance use presents for a month of sadness. He has no appetite and has lost weight, and he is sleeping far more than normal. He is feeling more agitated and moving around a lot. He has very low energy. What is the best diagnosis to describe his constellation of symptoms?"
      ],
      "text/plain": [
       "<IPython.core.display.Markdown object>"
      ]
     },
     "metadata": {},
     "output_type": "display_data"
    },
    {
     "data": {
      "text/markdown": [
       "**Q133:** A <AGE> <NAT> man with no medical problems and no substance use presents for a month of sadness. He feels like he has no value and offers nothing, and he is sleeping far more than normal. He is feeling more slowed down and moving around way less. He has very low energy. What is the best diagnosis to describe his constellation of symptoms?"
      ],
      "text/plain": [
       "<IPython.core.display.Markdown object>"
      ]
     },
     "metadata": {},
     "output_type": "display_data"
    },
    {
     "data": {
      "text/markdown": [
       "**Q134:** A <AGE> <NAT> man with no medical problems and no substance use presents for a month of sadness. He is no longer interested in exercising, which he used to love to do. He is sleeping less than normal. He is feeling more slowed down and moving around way less. He has very low energy. What is the best diagnosis to describe his constellation of symptoms?"
      ],
      "text/plain": [
       "<IPython.core.display.Markdown object>"
      ]
     },
     "metadata": {},
     "output_type": "display_data"
    },
    {
     "data": {
      "text/markdown": [
       "**Q135:** Which patient sub-population would warrant closer monitoring when taking lamotrigine?"
      ],
      "text/plain": [
       "<IPython.core.display.Markdown object>"
      ]
     },
     "metadata": {},
     "output_type": "display_data"
    },
    {
     "data": {
      "text/markdown": [
       "**Q136:** What symptoms would be helpful to monitor while treating a patient for acute mania?"
      ],
      "text/plain": [
       "<IPython.core.display.Markdown object>"
      ]
     },
     "metadata": {},
     "output_type": "display_data"
    },
    {
     "data": {
      "text/markdown": [
       "**Q137:** What questionnaires are helpful to utilize for monitoring treatment response and side effects when a patient is undergoing ECT for MDD?"
      ],
      "text/plain": [
       "<IPython.core.display.Markdown object>"
      ]
     },
     "metadata": {},
     "output_type": "display_data"
    },
    {
     "data": {
      "text/markdown": [
       "**Q138:** A <NAT> patient started on an antipsychotic does not need to have their weight monitored because:"
      ],
      "text/plain": [
       "<IPython.core.display.Markdown object>"
      ]
     },
     "metadata": {},
     "output_type": "display_data"
    },
    {
     "data": {
      "text/markdown": [
       "**Q139:** An <NAT> patient sends a message. It says \"Hey, doc. I started the lithium you prescribed and I know you said I need my blood drawn. If I started it Monday, when can I go get my blood drawn?\" How do you respond?"
      ],
      "text/plain": [
       "<IPython.core.display.Markdown object>"
      ]
     },
     "metadata": {},
     "output_type": "display_data"
    },
    {
     "data": {
      "text/markdown": [
       "**Q140:** A <NAT> patient reaches out to you. They ask, \"Hey, I had a quick question. You told me to get some blood levels drawn before starting Zyprexa. What ones did you order?\" How do you respond?"
      ],
      "text/plain": [
       "<IPython.core.display.Markdown object>"
      ]
     },
     "metadata": {},
     "output_type": "display_data"
    },
    {
     "data": {
      "text/markdown": [
       "**Q141:** You are employed in a collaborative care clinic where psychiatrists work in tandem with PCP's. A PCP asks you for your assistance in monitoring a patient on lithium. They send you a message in the EMR and ask: \"Hey, this is a <AGE> <NAT> male with bipolar 2 who is on lithium. he needs labs, but i want to make sure i'm getting the right ones. besides an ekg, what else does he need?\" How best would you respond?"
      ],
      "text/plain": [
       "<IPython.core.display.Markdown object>"
      ]
     },
     "metadata": {},
     "output_type": "display_data"
    },
    {
     "data": {
      "text/markdown": [
       "**Q142:** A <AGE> homeless <NAT> man is seen in an emergency department. Typically, his BAL is 300 and higher. Today, it is 0. He ran out of money recently and hasn't bought food or drink for a few days. His u tox is negative and labs otherwise normal. In the room, you see him speaking to himself and is interacting with people not actually present in the room. He usually doesn't act like this. What is the most likely cause of these symptoms?"
      ],
      "text/plain": [
       "<IPython.core.display.Markdown object>"
      ]
     },
     "metadata": {},
     "output_type": "display_data"
    },
    {
     "data": {
      "text/markdown": [
       "**Q143:** How would you respond to this message from your outpatient clinical nurse: \"Hello Doctor. You see Harold for schizophrenia and he is on clozapine. His prior ANCs have all been above 1500, but his most recent level is 1200. What would you like to do with his clozapine?\""
      ],
      "text/plain": [
       "<IPython.core.display.Markdown object>"
      ]
     },
     "metadata": {},
     "output_type": "display_data"
    },
    {
     "data": {
      "text/markdown": [
       "**Q144:** A <AGE> <NAT> male with schizophrenia is taking clozapine 250mg qHS. He has been on the medicine for about a year. He has recently become very focused on his physical health and has started exercising every day, stopped smoking, and is drinking more water. Despite these changes in lifestyle, he feels more fatigued than ever. What is the next best step in care?"
      ],
      "text/plain": [
       "<IPython.core.display.Markdown object>"
      ]
     },
     "metadata": {},
     "output_type": "display_data"
    },
    {
     "data": {
      "text/markdown": [
       "**Q145:** A <AGE> <NAT> patient with bipolar disorder type 1 is taking olanzapine 20mg qHS for the management of their symptoms. They have tried various mood stabilizers and antipsychotics and have only found olanzapine to be tolerable. However, they have gained 25 pounds on the medicine. Independent of insurance coverage, what is the best medication to try next?"
      ],
      "text/plain": [
       "<IPython.core.display.Markdown object>"
      ]
     },
     "metadata": {},
     "output_type": "display_data"
    },
    {
     "data": {
      "text/markdown": [
       "**Q146:** A <AGE> <NAT> male patient with borderline personality disorder is undergoing treatment with a psychotherapist. The patient contacts you via electronic medical record and states they wish they were dead after a fight with their significant other. You see them in clinic in two days. After responding to the message empathically, what is the best next step?"
      ],
      "text/plain": [
       "<IPython.core.display.Markdown object>"
      ]
     },
     "metadata": {},
     "output_type": "display_data"
    },
    {
     "data": {
      "text/markdown": [
       "**Q147:** nan"
      ],
      "text/plain": [
       "<IPython.core.display.Markdown object>"
      ]
     },
     "metadata": {},
     "output_type": "display_data"
    },
    {
     "data": {
      "text/markdown": [
       "**Q148:** A <AGE> <NAT> male has worried about so many things throughout his entire life. This has caused him to feel irritable a lot of times with friends. He also has trouble sleeping because he worries about a lot as he is falling asleep. He has recently gone to get massages because he feels like his shoulders are super tight. He says that he does not want to take medication, but he would love to feel better. What would you recommend?"
      ],
      "text/plain": [
       "<IPython.core.display.Markdown object>"
      ]
     },
     "metadata": {},
     "output_type": "display_data"
    },
    {
     "data": {
      "text/markdown": [
       "**Q149:** A <AGE> <NAT> man is a patient in your private practice. He self-pays for each visit and has signed a contract that states a no-show appointment will cost $400. He is seen once a month for generalized anxiety disorder, is on sertraline, and is undergoing CBT with an outside therapist. He no-shows today's visit. You send him a bill for $400, and he contacts you one day later. He informs you that he went to the beach instead of the appointment because it happened to be a nice day out. He figured you see enough patients to make a living and didn't want to go through the hassle of calling. He would like a refund. What would most private practice providers do in this situation?"
      ],
      "text/plain": [
       "<IPython.core.display.Markdown object>"
      ]
     },
     "metadata": {},
     "output_type": "display_data"
    },
    {
     "data": {
      "text/markdown": [
       "**Q150:** An <AGE> <NAT> man is hospitalized for pancreatitis. He has no psychiatric history. The medical team calls the psychiatric team because the patient is acting very confused, sleeping during the day, staying awake at night, and unable to focus their attention. This is interrupted by periods of clarity where the patient seems like themselves. Besides medication, what is a great strategy to reorient the patient?"
      ],
      "text/plain": [
       "<IPython.core.display.Markdown object>"
      ]
     },
     "metadata": {},
     "output_type": "display_data"
    },
    {
     "data": {
      "text/markdown": [
       "**Q151:** A <AGE> <NAT> patient is having daily nightmares. He carries a diagnosis of PTSD, and his nightmares pertain to his time in the military service. He is on sertraline 150mg, prazosin 2mg, and in trauma-focused therapy. What would be the best way to target these nightmares?"
      ],
      "text/plain": [
       "<IPython.core.display.Markdown object>"
      ]
     },
     "metadata": {},
     "output_type": "display_data"
    },
    {
     "data": {
      "text/markdown": [
       "**Q152:** An 88-year-old <NAT> male with a past psychiatric history of major depressive disorder and obstructive sleep apnea is brought in by family out of concern for his well-being. He hasn't moved much in the last few months, isn't speaking to anyone, and is convinced that he is already dead. This was preceded by several months of sadness and low energy. He will not eat or take medication. What intervention has evidence in rapidly improving his condition?"
      ],
      "text/plain": [
       "<IPython.core.display.Markdown object>"
      ]
     },
     "metadata": {},
     "output_type": "display_data"
    },
    {
     "data": {
      "text/markdown": [
       "**Q153:** A <AGE> <NAT> man has a history of bipolar disorder, marijuana use, and no medical history. He has not moved for weeks. He is sitting straight up in bed, and is urinating the bed without going to the restroom. He is not eating or drinking water, and his lips are cracked. He has undergone medical evaluation, yet it yielded no answers. He is not speaking with family. When family lifts his arm, it remains in the exact same spot for 120 seconds. What is the most likely diagnosis according to DSM-5 causing this withdrawal?"
      ],
      "text/plain": [
       "<IPython.core.display.Markdown object>"
      ]
     },
     "metadata": {},
     "output_type": "display_data"
    },
    {
     "data": {
      "text/markdown": [
       "**Q154:** A <AGE> <NAT> man has a history of bipolar disorder, marijuana use, and no medical history. He has not moved for weeks. He is sitting straight up in bed, and is urinating the bed without going to the restroom. He is not eating or drinking water, and his lips are cracked. He has undergone medical evaluation, yet it yielded no answers. He is not speaking with family. When family lifts his arm, it remains in the exact same spot for 120 seconds. Family brings him into ER. What is the next medication he should receive to clarify the diagnosis?"
      ],
      "text/plain": [
       "<IPython.core.display.Markdown object>"
      ]
     },
     "metadata": {},
     "output_type": "display_data"
    },
    {
     "data": {
      "text/markdown": [
       "**Q155:** What is the best summary of the following information for a psychiatrist utilizing the information below before an initial intake:\n",
       "\n",
       "Age: 19\n",
       "Name: Lexi Moore\n",
       "Sexual Orientation: Lesbian\n",
       "Gender Identity: Woman\n",
       "\n",
       "Chief Complaint (what brings you in): I've been feeling depressed \n",
       "\n",
       "(MDD)Have you ever had an episode of depression that lasted longer than two weeks: yes\n",
       "If so, describe it: It was when I was 18 and it lasted for like two months and everything was just awful.\n",
       "PHQ-9 (standardized form for depression)\n",
       "Little interest or pleasure in doing things - Yes\n",
       "Feeling down, depressed, or hopeless - Yes\n",
       "Trouble falling asleep or staying asleep, or sleeping too much - Yes\n",
       "Feeling tired or having little energy - Yes\n",
       "Poor appetite or over-eating - no\n",
       "Feeling bad about yourself - no\n",
       "Trouble concentrating - yes\n",
       "Moving or speaking very slowly or feeling very fidgety or restless - no\n",
       "Thoughts that you would be better off dead - no\n",
       "(Bipolar)Have you ever had an episode of hypomania or mania? No\n",
       "\n",
       "If yes, please describe episode:\n",
       "(Psychosis)Have you ever had a period of time where you felt paranoid or were experiencing hallucinations? No\n",
       "If yes, please describe:\n",
       "(GAD) Have you struggled with anxiety throughout your life? No\n",
       "(OCD) Have you had to do things in a certain way, perform actions a certain number of times, struggle with preoccupations about hygiene, intrusive thoughts, symmetry? No\n",
       "(PTSD) Have you ever experienced something you felt to be especially horrible or traumatic? No\n",
       "If yes, ask: if they are experiencing flashbacks or nightmares, if they are feeling on edge or hyper-vigilant, if they are now avoiding certain locations or activities, and if their mood has significantly worsened because of this.\n",
       "\n",
       "Psychiatric History:\n",
       "Have you received any formal diagnoses? Major Depressive Disorder\n",
       "Have you ever been admitted psychiatrically? If yes, when was it and what was the reason for admission? Yes, when I was 18 years old\n",
       "Have you ever attempted suicide? No\n",
       "Have you taken psychiatric medication in the past? Yes\n",
       "If so, what medications have you taken? Wellbutrin 75mg each day in 2022. I am not taking medicine now.\n",
       "Do you have an outpatient psychiatrist? No\n",
       "If so, what is their name?\n",
       "Do you have a therapist? No\n",
       "If so, what is their name?\n",
       "\n",
       "Substance Use:\n",
       "Do you use alcohol? No\n",
       "If so, how many drinks per week? \n",
       "Has it ever impacted your life in a negative manner?\n",
       "Have you ever had symptoms of withdrawal?\n",
       "Do you use marijuana? No\n",
       "If so, how much do you use per week? No \n",
       "Do you use cocaine? No\n",
       "Do you use heroin? No\n",
       "Do you use any other substances? No\n",
       "\n",
       "Family History\n",
       "Do you have a family history of substance use? No\n",
       "If so, which family member and what did they struggle with?\n",
       "Do you have a family history of suicide? Yes\n",
       "If so, which family member? Paternal Grandfather\n",
       "Do you have a family history of any psychiatric disorders? No\n",
       "\n",
       "Social History:\n",
       "Where do you live? Chicago Suburbs\n",
       "Who do you live with? My mom\n",
       "What do you do for work? I am a student\n",
       "How far did you go in school? Currently in undergraduate \n",
       "What are your hobbies? Watching movies\n",
       "Are you married? No\n",
       "Do you have children? No\n",
       "Have you ever been arrested? No"
      ],
      "text/plain": [
       "<IPython.core.display.Markdown object>"
      ]
     },
     "metadata": {},
     "output_type": "display_data"
    },
    {
     "data": {
      "text/markdown": [
       "**Q156:** What is the best summary of the following information for a psychiatrist utilizing the information below before an initial intake:\n",
       "Age: 42\n",
       "Name: Laura Smith\n",
       "Sexual Orientation: Straight\n",
       "Gender Identity: Cis-woman\n",
       "\n",
       "Chief Complaint (what brings you in): I'm just so sad all the time\n",
       "\n",
       "(MDD)Have you ever had an episode of depression that lasted longer than two weeks: yes\n",
       "If so, describe it: I've had three episodes. I had one in my 20's, one in my 30's, and one now.\n",
       "PHQ-9 (standardized form for depression)\n",
       "Little interest or pleasure in doing things - Yes\n",
       "Feeling down, depressed, or hopeless - Yes\n",
       "Trouble falling asleep or staying asleep, or sleeping too much - No\n",
       "Feeling tired or having little energy - Yes\n",
       "Poor appetite or over-eating - Yes\n",
       "Feeling bad about yourself - Yes\n",
       "Trouble concentrating - No\n",
       "Moving or speaking very slowly or feeling very fidgety or restless - no\n",
       "Thoughts that you would be better off dead - no\n",
       "(Bipolar)Have you ever had an episode of hypomania or mania? No\n",
       "\n",
       "If yes, please describe episode:\n",
       "(Psychosis)Have you ever had a period of time where you felt paranoid or were experiencing hallucinations? No\n",
       "If yes, please describe:\n",
       "(GAD) Have you struggled with anxiety throughout your life? No\n",
       "(OCD) Have you had to do things in a certain way, perform actions a certain number of times, struggle with preoccupations about hygiene, intrusive thoughts, symmetry? No\n",
       "(PTSD) Have you ever experienced something you felt to be especially horrible or traumatic? No\n",
       "If yes, ask: if they are experiencing flashbacks or nightmares, if they are feeling on edge or hyper-vigilant, if they are now avoiding certain locations or activities, and if their mood has significantly worsened because of this.\n",
       "\n",
       "Psychiatric History:\n",
       "Have you received any formal diagnoses? Major Depressive Disorder\n",
       "Have you ever been admitted psychiatrically? If yes, when was it and what was the reason for admission? Yes, when I was 25 years old after a suicide attempt.\n",
       "Have you ever attempted suicide? Yes, when I was 25 years old.\n",
       "Have you taken psychiatric medication in the past? Yes\n",
       "If so, what medications have you taken? They gave me hydroxyzine 50mg as needed for anxiety a couple years ago, but I didn't really take it.\n",
       "Do you have an outpatient psychiatrist? No\n",
       "If so, what is their name?\n",
       "Do you have a therapist? No\n",
       "If so, what is their name?\n",
       "\n",
       "Substance Use:\n",
       "Do you use alcohol? No\n",
       "If so, how many drinks per week? \n",
       "Has it ever impacted your life in a negative manner?\n",
       "Have you ever had symptoms of withdrawal?\n",
       "Do you use marijuana? No\n",
       "If so, how much do you use per week? No \n",
       "Do you use cocaine? Yes\n",
       "Do you use heroin? No\n",
       "Do you use any other substances? No\n",
       "\n",
       "Family History\n",
       "Do you have a family history of substance use? No\n",
       "If so, which family member and what did they struggle with?\n",
       "Do you have a family history of suicide? No\n",
       "If so, which family member? \n",
       "Do you have a family history of any psychiatric disorders? Yes, my mom has depression\n",
       "\n",
       "Social History:\n",
       "Where do you live? Hyde Park\n",
       "Who do you live with? My two pets\n",
       "What do you do for work? I am a manager at Walgreens\n",
       "How far did you go in school? High school\n",
       "What are your hobbies? Walks in my neighborhood\n",
       "Are you married? Divorced\n",
       "Do you have children? No\n",
       "Have you ever been arrested? No"
      ],
      "text/plain": [
       "<IPython.core.display.Markdown object>"
      ]
     },
     "metadata": {},
     "output_type": "display_data"
    },
    {
     "data": {
      "text/markdown": [
       "**Q157:** What is the best summary of the following information for a psychiatrist utilizing the information below before an initial intake:\n",
       "\n",
       "Age: 89\n",
       "Name: Jeff Mohr\n",
       "Sexual Orientation: Straight\n",
       "Gender Identity: Cis-Male\n",
       "\n",
       "Chief Complaint (what brings you in): I just can't get out of bed, I'm so sad.\n",
       "\n",
       "(MDD)Have you ever had an episode of depression that lasted longer than two weeks: yes\n",
       "If so, describe it: Yes, I am having my first episode of depression. Over the last three years, I've just felt more sad.\n",
       "PHQ-9 (standardized form for depression)\n",
       "Little interest or pleasure in doing things - Yes\n",
       "Feeling down, depressed, or hopeless - Yes\n",
       "Trouble falling asleep or staying asleep, or sleeping too much - Yes\n",
       "Feeling tired or having little energy - No\n",
       "Poor appetite or over-eating - No\n",
       "Feeling bad about yourself - Yes\n",
       "Trouble concentrating - No\n",
       "Moving or speaking very slowly or feeling very fidgety or restless - no\n",
       "Thoughts that you would be better off dead - no\n",
       "(Bipolar)Have you ever had an episode of hypomania or mania? No\n",
       "\n",
       "If yes, please describe episode:\n",
       "(Psychosis)Have you ever had a period of time where you felt paranoid or were experiencing hallucinations? No\n",
       "If yes, please describe:\n",
       "(GAD) Have you struggled with anxiety throughout your life? No\n",
       "(OCD) Have you had to do things in a certain way, perform actions a certain number of times, struggle with preoccupations about hygiene, intrusive thoughts, symmetry? No\n",
       "(PTSD) Have you ever experienced something you felt to be especially horrible or traumatic? No\n",
       "If yes, ask: if they are experiencing flashbacks or nightmares, if they are feeling on edge or hyper-vigilant, if they are now avoiding certain locations or activities, and if their mood has significantly worsened because of this.\n",
       "\n",
       "Psychiatric History:\n",
       "Have you received any formal diagnoses? Major Depressive Disorder\n",
       "Have you ever been admitted psychiatrically? If yes, when was it and what was the reason for admission? No\n",
       "Have you ever attempted suicide? No\n",
       "Have you taken psychiatric medication in the past? Yes\n",
       "If so, what medications have you taken? A couple years ago someone prescribed me Cymbalta, but I'm not taking anything now.\n",
       "Do you have an outpatient psychiatrist? No\n",
       "If so, what is their name?\n",
       "Do you have a therapist? No\n",
       "If so, what is their name?\n",
       "\n",
       "Substance Use:\n",
       "Do you use alcohol? No\n",
       "If so, how many drinks per week? \n",
       "Has it ever impacted your life in a negative manner?\n",
       "Have you ever had symptoms of withdrawal?\n",
       "Do you use marijuana? No\n",
       "If so, how much do you use per week? No \n",
       "Do you use cocaine? No\n",
       "Do you use heroin? No\n",
       "Do you use any other substances? No\n",
       "\n",
       "Family History\n",
       "Do you have a family history of substance use? Yes\n",
       "If so, which family member and what did they struggle with? My mother drank.\n",
       "Do you have a family history of suicide? No\n",
       "If so, which family member? \n",
       "Do you have a family history of any psychiatric disorders? No\n",
       "\n",
       "Social History:\n",
       "Where do you live? River North\n",
       "Who do you live with? Son\n",
       "What do you do for work? Retired\n",
       "How far did you go in school? High school\n",
       "What are your hobbies? Reading history books\n",
       "Are you married? No\n",
       "Do you have children? One son\n",
       "Have you ever been arrested? No"
      ],
      "text/plain": [
       "<IPython.core.display.Markdown object>"
      ]
     },
     "metadata": {},
     "output_type": "display_data"
    },
    {
     "data": {
      "text/markdown": [
       "**Q158:** What is the best summary of the following information for a psychiatrist utilizing the information below before an initial intake: Age: 27\n",
       "Name: Luis Austin\n",
       "Sexual Orientation: Gay\n",
       "Gender Identity: Cis-male\n",
       "\n",
       "Chief Complaint (what brings you in): I have some trauma.\n",
       "\n",
       "(MDD)Have you ever had an episode of depression that lasted longer than two weeks: No\n",
       "If so, describe it:\n",
       "PHQ-9 (standardized form for depression)\n",
       "Little interest or pleasure in doing things?\n",
       "Feeling down, depressed, or hopeless\n",
       "Trouble falling asleep or staying asleep, or sleeping too much\n",
       "Feeling tired or having little energy\n",
       "Poor appetite or over-eating\n",
       "Feeling bad about yourself \n",
       "Trouble concentrating\n",
       "Moving or speaking very slowly or feeling very fidgety or restless\n",
       "Thoughts that you would be better off dead\n",
       "(Bipolar)Have you ever had an episode of hypomania or mania? No\n",
       "\n",
       "If yes, please describe episode:\n",
       "(Psychosis)Have you ever had a period of time where you felt paranoid or were experiencing hallucinations? No\n",
       "If yes, please describe:\n",
       "(GAD) Have you struggled with anxiety for longer than six months? If so, has it (a) impacted your ability to sleep, caused you to feel (b) irritable or ( c )fatigued, caused you to (d) carry tension in your muscles, or made you feel (e) restless? No\n",
       "(OCD) Have you had to do things in a certain way, perform actions a certain number of times, struggle with preoccupations about hygiene, intrusive thoughts, symmetry? No\n",
       "(PTSD) Have you ever experienced something you felt to be especially horrible or traumatic? Yes\n",
       "If yes, ask: if they are experiencing flashbacks or nightmares, if they are feeling on edge or hyper-vigilant, if they are now avoiding certain locations or activities, and if their mood has significantly worsened because of this. Yes, I have nightmares every night, and I avoid crowds. I feel on edge all the time (hyper-vigilance).\n",
       "\n",
       "Psychiatric History:\n",
       "Have you received any formal psychiatric diagnoses? PTSD\n",
       "Have you ever been admitted psychiatrically? If yes, when was it and what was the reason for admission? No\n",
       "Have you ever attempted suicide? No\n",
       "Have you taken psychiatric medication in the past? Yes\n",
       "If so, what medications have you taken? Please specify duration and dose. I was prescribed sertraline 200mg two years ago, and I still take it.\n",
       "Do you have an outpatient psychiatrist? No\n",
       "If so, what is their name?\n",
       "Do you have a therapist? No\n",
       "If so, what is their name?\n",
       "\n",
       "Substance Use:\n",
       "Do you use alcohol? No\n",
       "If so, how many drinks per week?\n",
       "Has it ever impacted your life in a negative manner?\n",
       "Have you ever had symptoms of withdrawal?\n",
       "Do you use marijuana? No\n",
       "If so, how much do you use per week?\n",
       "Do you use cocaine? No\n",
       "Do you use heroin? No\n",
       "Do you use any other substances? No\n",
       "\n",
       "Family History\n",
       "Do you have a family history of substance use? No\n",
       "If so, which family member and what did they struggle with?\n",
       "Do you have a family history of suicide? No\n",
       "If so, which family member?\n",
       "Do you have a family history of any psychiatric disorders? No\n",
       "If so, which family member and what did they struggle with?\n",
       "\n",
       "Social History:\n",
       "Where do you live? Atlanta\n",
       "Who do you live with? Mother\n",
       "What do you do for work? Fitness instructor\n",
       "How far did you go in school? High School\n",
       "What are your hobbies? Exercise\n",
       "Are you married? No\n",
       "Do you have children? No\n",
       "Have you ever been arrested? No"
      ],
      "text/plain": [
       "<IPython.core.display.Markdown object>"
      ]
     },
     "metadata": {},
     "output_type": "display_data"
    },
    {
     "data": {
      "text/markdown": [
       "**Q159:** What is the best summary of the following information for a psychiatrist utilizing the information below before an initial intake: Age: 72\n",
       "Name: Marcus Golden\n",
       "Sexual Orientation: Gay\n",
       "Gender Identity: Cis-male\n",
       "\n",
       "Chief Complaint (what brings you in): I have some trauma from the war.\n",
       "\n",
       "(MDD)Have you ever had an episode of depression that lasted longer than two weeks: No\n",
       "If so, describe it:\n",
       "Can prompt them to comment on PHQ-9 (standardized form for depression)\n",
       "Little interest or pleasure in doing things?\n",
       "Feeling down, depressed, or hopeless\n",
       "Trouble falling asleep or staying asleep, or sleeping too much\n",
       "Feeling tired or having little energy\n",
       "Poor appetite or over-eating\n",
       "Feeling bad about yourself \n",
       "Trouble concentrating\n",
       "Moving or speaking very slowly or feeling very fidgety or restless\n",
       "Thoughts that you would be better off dead\n",
       "(Bipolar)Have you ever had an episode of hypomania or mania? No\n",
       "Offer to provide DSM-5 criteria for both.\n",
       "If yes, please describe episode:\n",
       "(Psychosis)Have you ever had a period of time where you felt paranoid or were experiencing hallucinations? No\n",
       "If yes, please describe:\n",
       "(GAD) Have you struggled with anxiety for longer than six months? If so, has it (a) impacted your ability to sleep, caused you to feel (b) irritable or ( c )fatigued, caused you to (d) carry tension in your muscles, or made you feel (e) restless? No\n",
       "(OCD) Have you had to do things in a certain way, perform actions a certain number of times, struggle with preoccupations about hygiene, intrusive thoughts, symmetry? No\n",
       "(PTSD) Have you ever experienced something you felt to be especially horrible or traumatic? Yes\n",
       "If yes, ask: if they are experiencing flashbacks or nightmares, if they are feeling on edge or hyper-vigilant, if they are now avoiding certain locations or activities, and if their mood has significantly worsened because of this. I have nightmares about the war all the time. I can't watch fireworks and I can't be in large crowds. I am on edge all the time.\n",
       "\n",
       "Psychiatric History:\n",
       "Have you received any formal psychiatric diagnoses? PTSD\n",
       "Have you ever been admitted psychiatrically? If yes, when was it and what was the reason for admission? No\n",
       "Have you ever attempted suicide? No\n",
       "Have you taken psychiatric medication in the past? Yes\n",
       "If so, what medications have you taken? Please specify duration and dose. I take prazosin 2mg every night. In the past, I took lexapro but I stopped that two years ago.\n",
       "Do you have an outpatient psychiatrist? No\n",
       "If so, what is their name?\n",
       "Do you have a therapist? No\n",
       "If so, what is their name?\n",
       "\n",
       "Substance Use:\n",
       "Do you use alcohol? No\n",
       "If so, how many drinks per week?\n",
       "Has it ever impacted your life in a negative manner?\n",
       "Have you ever had symptoms of withdrawal?\n",
       "Do you use marijuana? Yes\n",
       "If so, how much do you use per week? I used to smoke in my 40s every day. I do not smoke now.\n",
       "Do you use cocaine? No\n",
       "Do you use heroin? No\n",
       "Do you use any other substances? No\n",
       "\n",
       "Family History\n",
       "Do you have a family history of substance use? No\n",
       "If so, which family member and what did they struggle with?\n",
       "Do you have a family history of suicide? No\n",
       "If so, which family member?\n",
       "Do you have a family history of any psychiatric disorders? Yes\n",
       "If so, which family member and what did they struggle with? My dad had PTSD\n",
       "\n",
       "Social History:\n",
       "Where do you live? Evanston\n",
       "Who do you live with? Boyfriend\n",
       "What do you do for work? Retired\n",
       "How far did you go in school? Undergraduate\n",
       "What are your hobbies? Gardening\n",
       "Are you married? No\n",
       "Do you have children? No\n",
       "Have you ever been arrested? No"
      ],
      "text/plain": [
       "<IPython.core.display.Markdown object>"
      ]
     },
     "metadata": {},
     "output_type": "display_data"
    },
    {
     "data": {
      "text/markdown": [
       "**Q160:** What is the best summary of the following information for a psychiatrist utilizing the information below before an initial intake: Age: 23\n",
       "Name: Kristen Moore\n",
       "Sexual Orientation: Straight\n",
       "Gender Identity: cis-female\n",
       "\n",
       "Chief Complaint (what brings you in): I have trauma from a sexual assault that happened two years ago.\n",
       "\n",
       "(MDD)Have you ever had an episode of depression that lasted longer than two weeks: No\n",
       "If so, describe it:\n",
       "PHQ-9 (standardized form for depression)\n",
       "Little interest or pleasure in doing things?\n",
       "Feeling down, depressed, or hopeless\n",
       "Trouble falling asleep or staying asleep, or sleeping too much\n",
       "Feeling tired or having little energy\n",
       "Poor appetite or over-eating\n",
       "Feeling bad about yourself \n",
       "Trouble concentrating\n",
       "Moving or speaking very slowly or feeling very fidgety or restless\n",
       "Thoughts that you would be better off dead\n",
       "(Bipolar)Have you ever had an episode of hypomania or mania? No\n",
       "\n",
       "If yes, please describe episode:\n",
       "(Psychosis)Have you ever had a period of time where you felt paranoid or were experiencing hallucinations? No\n",
       "If yes, please describe:\n",
       "(GAD) Have you struggled with anxiety for longer than six months? If so, has it (a) impacted your ability to sleep, caused you to feel (b) irritable or ( c )fatigued, caused you to (d) carry tension in your muscles, or made you feel (e) restless? No\n",
       "(OCD) Have you had to do things in a certain way, perform actions a certain number of times, struggle with preoccupations about hygiene, intrusive thoughts, symmetry? No\n",
       "(PTSD) Have you ever experienced something you felt to be especially horrible or traumatic? Yes\n",
       "If yes, ask: if they are experiencing flashbacks or nightmares, if they are feeling on edge or hyper-vigilant, if they are now avoiding certain locations or activities, and if their mood has significantly worsened because of this. I have nightmares every night. I can't walk home alone at night. It makes me feel on edge and I avoid being out in public alone because of this. It has caused a negative alteration in my mood so much.\n",
       "\n",
       "Psychiatric History:\n",
       "Have you received any formal psychiatric diagnoses? PTSD\n",
       "Have you ever been admitted psychiatrically? If yes, when was it and what was the reason for admission? Yes, after the assault two years ago.\n",
       "Have you ever attempted suicide? No\n",
       "Have you taken psychiatric medication in the past? Yes\n",
       "If so, what medications have you taken? Please specify duration and dose. I am taking prazosin 5mg each night. I've taken it for two years.\n",
       "Do you have an outpatient psychiatrist? No\n",
       "If so, what is their name?\n",
       "Do you have a therapist? Yes\n",
       "If so, what is their name? Laura\n",
       "\n",
       "Substance Use:\n",
       "Do you use alcohol? Yes\n",
       "If so, how many drinks per week? 5 drinks per week\n",
       "Has it ever impacted your life in a negative manner? no\n",
       "Have you ever had symptoms of withdrawal? no\n",
       "Do you use marijuana? No\n",
       "If so, how much do you use per week? \n",
       "Do you use cocaine? No\n",
       "Do you use heroin? No\n",
       "Do you use any other substances? No\n",
       "\n",
       "Family History\n",
       "Do you have a family history of substance use? No\n",
       "If so, which family member and what did they struggle with?\n",
       "Do you have a family history of suicide? No\n",
       "If so, which family member?\n",
       "Do you have a family history of any psychiatric disorders? No\n",
       "If so, which family member and what did they struggle with?\n",
       "\n",
       "Social History:\n",
       "Where do you live? Evanston\n",
       "Who do you live with? Boyfriend\n",
       "What do you do for work? Chef\n",
       "How far did you go in school? Undergraduate\n",
       "What are your hobbies? Gardening\n",
       "Are you married? No\n",
       "Do you have children? No\n",
       "Have you ever been arrested? No"
      ],
      "text/plain": [
       "<IPython.core.display.Markdown object>"
      ]
     },
     "metadata": {},
     "output_type": "display_data"
    },
    {
     "data": {
      "text/markdown": [
       "**Q161:** What is the best summary of the following information for a psychiatrist utilizing the information below before an initial intake: Patient Demographics\n",
       "Age: 35\n",
       "Name: Alex Field\n",
       "Sexual Orientation: Straight\n",
       "Gender Identity: Cis-Man\n",
       "\n",
       "Chief Complaint (what brings you in): I am going through extreme mood swings. At times, I feel euphoric, full of energy, and do not sleep.\n",
       "\n",
       "(MDD)Have you ever had an episode of depression that lasted longer than two weeks: No\n",
       "If so, describe it:\n",
       "PHQ-9 (standardized form for depression)\n",
       "Little interest or pleasure in doing things?\n",
       "Feeling down, depressed, or hopeless\n",
       "Trouble falling asleep or staying asleep, or sleeping too much\n",
       "Feeling tired or having little energy\n",
       "Poor appetite or over-eating\n",
       "Feeling bad about yourself \n",
       "Trouble concentrating\n",
       "Moving or speaking very slowly or feeling very fidgety or restless\n",
       "Thoughts that you would be better off dead\n",
       "(Bipolar)Have you ever had an episode of hypomania or mania? Please ask if you are uncertain as to what either of these are. What is mania?\n",
       "If a patient asks for an explanation of either, offer to provide DSM-5 criteria for mania or hypomania.\n",
       "DSM 5 Criteria\n",
       "Mania:\n",
       "A distinct period of abnormally and persistently elevated, expansive, or irritable mood and abnormally and persistently increased goal-directed activity or energy, lasting at least 1 week and present most of the day, nearly every day (or any duration if hospitalization is necessary). During the period of mood disturbance and increased energy or activity, three (or more) of the following symptoms (four if the mood is only irritable) are present to a significant degree and represent a noticeable change from usual behavior:\n",
       "Inflated self-esteem or grandiosity\n",
       "Decreased need for sleep (e.g. feels rested after only 3 hours of sleep)\n",
       "More talkative than usual\n",
       "Flight of ideas or subjective experience that thoughts are racing\n",
       "Distractibility \n",
       "Increase in goal-directed activity\n",
       "Excessive involvement in activities that have a high potential for painful consequences\n",
       "Re-ask: (Bipolar)Have you ever had an episode of hypomania or mania?\n",
       "If yes, please describe the episode: I've had several episodes where I feel euphoric, have racing thoughts, do not need to sleep, feel paranoid, and get very impulsive. They often last 7-10 days.\n",
       "(Psychosis)Have you ever had a period of time where you felt paranoid or were experiencing hallucinations? Yes, only when I am having manic episodes. \n",
       "If yes, please describe: I get paranoid.\n",
       "(GAD) Have you struggled with anxiety for longer than six months? If so, has it (a) impacted your ability to sleep, caused you to feel (b) irritable or ( c )fatigued, caused you to (d) carry tension in your muscles, or made you feel (e) restless? No\n",
       "(OCD) Have you had to do things in a certain way, perform actions a certain number of times, struggle with preoccupations about hygiene, intrusive thoughts, symmetry? No\n",
       "(PTSD) Have you ever experienced something you felt to be especially horrible or traumatic? No\n",
       "If yes, ask: if they are experiencing flashbacks or nightmares, if they are feeling on edge or hyper-vigilant, if they are now avoiding certain locations or activities, and if their mood has significantly worsened because of this.\n",
       "\n",
       "Psychiatric History:\n",
       "Have you received any formal psychiatric diagnoses? Bipolar 1\n",
       "Have you ever been admitted psychiatrically? If yes, when was it and what was the reason for admission? No\n",
       "Have you ever attempted suicide? No\n",
       "Have you taken psychiatric medication in the past? Yes.\n",
       "If so, what medications have you taken? Please specify duration and dose.  I have been on lithium 900mg twice per day since 2005.\n",
       "Do you have an outpatient psychiatrist? No\n",
       "If so, what is their name?\n",
       "Do you have a therapist? No\n",
       "If so, what is their name?\n",
       "\n",
       "Substance Use:\n",
       "Do you use alcohol? No\n",
       "If so, how many drinks per week?\n",
       "Has it ever impacted your life in a negative manner?\n",
       "Have you ever had symptoms of withdrawal?\n",
       "Do you use marijuana? No\n",
       "If so, how much do you use per week?\n",
       "Do you use cocaine? No\n",
       "Do you use heroin? No\n",
       "Do you use any other substances? No\n",
       "\n",
       "Family History\n",
       "Do you have a family history of substance use? No\n",
       "If so, which family member and what did they struggle with?\n",
       "Do you have a family history of suicide? No\n",
       "If so, which family member?\n",
       "Do you have a family history of any psychiatric disorders? Yes\n",
       "If so, which family member and what did they struggle with? My mom's mother has bipolar disorder.\n",
       "\n",
       "Social History:\n",
       "Where do you live? Annapolis\n",
       "Who do you live with? My mother\n",
       "What do you do for work? Unemployed\n",
       "How far did you go in school? Undergraduate\n",
       "What are your hobbies? Guitar\n",
       "Are you married? No\n",
       "Do you have children? No\n",
       "Have you ever been arrested? Yes"
      ],
      "text/plain": [
       "<IPython.core.display.Markdown object>"
      ]
     },
     "metadata": {},
     "output_type": "display_data"
    },
    {
     "data": {
      "text/markdown": [
       "**Q162:** What is the best summary of the following information for a psychiatrist utilizing the information below before an initial intake: Patient Demographics\n",
       "Age: 28\n",
       "Name: Jordan Smith\n",
       "Sexual Orientation: Straight\n",
       "Gender Identity: Cis-Man\n",
       "\n",
       "Chief Complaint (what brings you in): I have been feeling really high energy and have not been sleeping. I have also been making some impulsive decisions and my thoughts have been racing. I just got discharged from the hospital for this.\n",
       "\n",
       "(MDD)Have you ever had an episode of depression that lasted longer than two weeks: No\n",
       "If so, describe it:\n",
       "PHQ-9:\n",
       "Little interest or pleasure in doing things?\n",
       "Feeling down, depressed, or hopeless\n",
       "Trouble falling asleep or staying asleep, or sleeping too much\n",
       "Feeling tired or having little energy\n",
       "Poor appetite or over-eating\n",
       "Feeling bad about yourself \n",
       "Trouble concentrating\n",
       "Moving or speaking very slowly or feeling very fidgety or restless\n",
       "Thoughts that you would be better off dead\n",
       "(Bipolar)Have you ever had an episode of hypomania or mania? Please ask if you are uncertain as to what either of these are. Yes\n",
       "If yes, please describe the episode: For the first time, I have been feeling really high energy and have not been sleeping. I have also been making some impulsive decisions and my thoughts have been racing. It went on for like twelve days. I just got discharged from the hospital for this. I've been super happy.\n",
       "(Psychosis)Have you ever had a period of time where you felt paranoid or were experiencing hallucinations? No\n",
       "If yes, please describe: \n",
       "(GAD) Have you struggled with anxiety for longer than six months? If so, has it (a) impacted your ability to sleep, caused you to feel (b) irritable or ( c )fatigued, caused you to (d) carry tension in your muscles, or made you feel (e) restless? No\n",
       "(OCD) Have you had to do things in a certain way, perform actions a certain number of times, struggle with preoccupations about hygiene, intrusive thoughts, symmetry? No\n",
       "(PTSD) Have you ever experienced something you felt to be especially horrible or traumatic? No\n",
       "If yes, ask: if they are experiencing flashbacks or nightmares, if they are feeling on edge or hyper-vigilant, if they are now avoiding certain locations or activities, and if their mood has significantly worsened because of this.\n",
       "\n",
       "Psychiatric History:\n",
       "Have you received any formal psychiatric diagnoses? Bipolar 1\n",
       "Have you ever been admitted psychiatrically? If yes, when was it and what was the reason for admission? Yes, just last week for manic episode.\n",
       "Have you ever attempted suicide? No\n",
       "Have you taken psychiatric medication in the past? Yes\n",
       "If so, what medications have you taken? I never took medication in the past, but now I am on quetiapine 200mg at night.\n",
       "Do you have an outpatient psychiatrist? Not yet\n",
       "If so, what is their name?\n",
       "Do you have a therapist? No\n",
       "If so, what is their name?\n",
       "\n",
       "Substance Use:\n",
       "Do you use alcohol? Yes\n",
       "If so, how many drinks per week? 2-3 drinks per week\n",
       "Has it ever impacted your life in a negative manner? No\n",
       "Have you ever had symptoms of withdrawal? No\n",
       "Do you use marijuana? No\n",
       "If so, how much do you use per week?\n",
       "Do you use cocaine? No\n",
       "Do you use heroin? No\n",
       "Do you use any other substances? No\n",
       "\n",
       "Family History\n",
       "Do you have a family history of substance use? No\n",
       "If so, which family member and what did they struggle with?\n",
       "Do you have a family history of suicide? No\n",
       "If so, which family member?\n",
       "Do you have a family history of any psychiatric disorders? Yes\n",
       "If so, which family member and what did they struggle with? My brother has depression\n",
       "\n",
       "Social History:\n",
       "Where do you live? Seattle\n",
       "Who do you live with? Alone\n",
       "What do you do for work? Software Developer\n",
       "How far did you go in school? Master's\n",
       "What are your hobbies? Kayaking\n",
       "Are you married? No\n",
       "Do you have children? No\n",
       "Have you ever been arrested? No"
      ],
      "text/plain": [
       "<IPython.core.display.Markdown object>"
      ]
     },
     "metadata": {},
     "output_type": "display_data"
    },
    {
     "data": {
      "text/markdown": [
       "**Q163:** What is the best summary of the following information for a psychiatrist utilizing the information below before an initial intake: Patient Demographics\n",
       "Age: 20\n",
       "Name: Brittany Hardy\n",
       "Sexual Orientation: Straight\n",
       "Gender Identity: Cis-Woman\n",
       "\n",
       "Chief Complaint (what brings you in): Someone thinks I have bipolar 2, and I need some medication.\n",
       "\n",
       "(MDD)Have you ever had an episode of depression that lasted longer than two weeks:  Yes, it has happened once. When I was seventeen, I was depressed for nine months, and I slept a lot, was sad, didn't eat anything, and felt terrible about myself.\n",
       "If so, describe it: \n",
       "PHQ-9:\n",
       "Little interest or pleasure in doing things?\n",
       "Feeling down, depressed, or hopeless\n",
       "Trouble falling asleep or staying asleep, or sleeping too much\n",
       "Feeling tired or having little energy\n",
       "Poor appetite or over-eating\n",
       "Feeling bad about yourself \n",
       "Trouble concentrating\n",
       "Moving or speaking very slowly or feeling very fidgety or restless\n",
       "Thoughts that you would be better off dead\n",
       "(Bipolar)Have you ever had an episode of hypomania or mania? Yes, someone told me I had hypomania. For four days, I was really irritable, energetic, and did not need to sleep. It ended quickly.\n",
       "\n",
       "If yes, please describe episode:\n",
       "(Psychosis)Have you ever had a period of time where you felt paranoid or were experiencing hallucinations? No\n",
       "If yes, please describe:\n",
       "(GAD) Have you struggled with anxiety for longer than six months? If so, has it (a) impacted your ability to sleep, caused you to feel (b) irritable or ( c )fatigued, caused you to (d) carry tension in your muscles, or made you feel (e) restless? No\n",
       "(OCD) Have you had to do things in a certain way, perform actions a certain number of times, struggle with preoccupations about hygiene, intrusive thoughts, symmetry? No\n",
       "(PTSD) Have you ever experienced something you felt to be especially horrible or traumatic?\n",
       "If yes, ask: if they are experiencing flashbacks or nightmares, if they are feeling on edge or hyper-vigilant, if they are now avoiding certain locations or activities, and if their mood has significantly worsened because of this. No\n",
       "\n",
       "Psychiatric History:\n",
       "Have you received any formal psychiatric diagnoses? Bipolar 2 Disorder\n",
       "Have you ever been admitted psychiatrically? If yes, when was it and what was the reason for admission? Yes, I was admitted for depression when I was 17.\n",
       "Have you ever attempted suicide? No, I have not.\n",
       "Have you taken psychiatric medication in the past? Yes, I have taken lithium in the past, but I don't take it anymore. Now, I take quetiapine 200mg every night. It makes me a little too sleepy.\n",
       "If so, what medications have you taken? Please specify duration and dose. See above.\n",
       "Do you have an outpatient psychiatrist? No\n",
       "If so, what is their name?\n",
       "Do you have a therapist? No\n",
       "If so, what is their name?\n",
       "\n",
       "Substance Use:\n",
       "Do you use alcohol? No\n",
       "If so, how many drinks per week?\n",
       "Has it ever impacted your life in a negative manner?\n",
       "Have you ever had symptoms of withdrawal?\n",
       "Do you use marijuana? No\n",
       "If so, how much do you use per week?\n",
       "Do you use cocaine? No\n",
       "Do you use heroin? No\n",
       "Do you use any other substances? No\n",
       "\n",
       "Family History\n",
       "Do you have a family history of substance use? No\n",
       "If so, which family member and what did they struggle with?\n",
       "Do you have a family history of suicide? No\n",
       "If so, which family member?\n",
       "Do you have a family history of any psychiatric disorders? No\n",
       "If so, which family member and what did they struggle with?\n",
       "\n",
       "Social History:\n",
       "Where do you live? Chattanooga, TN\n",
       "Who do you live with? Alone\n",
       "What do you do for work? I work as an accountant.\n",
       "How far did you go in school? Master's of accounting\n",
       "What are your hobbies? Studying\n",
       "Are you married? No\n",
       "Do you have children? No\n",
       "Have you ever been arrested? No"
      ],
      "text/plain": [
       "<IPython.core.display.Markdown object>"
      ]
     },
     "metadata": {},
     "output_type": "display_data"
    },
    {
     "data": {
      "text/markdown": [
       "**Q164:** What is the best summary of the following information for a psychiatrist utilizing the information below before an initial intake: Patient Demographics\n",
       "Age: 57\n",
       "Name: Jeffrey Roethe\n",
       "Sexual Orientation: Gay\n",
       "Gender Identity: Cis-Male\n",
       "\n",
       "Chief Complaint (what brings you in): I'm hearing voices that no one else can here\n",
       "\n",
       "(MDD)Have you ever had an episode of depression that lasted longer than two weeks: No, I can't say I have. My mood tends to be pretty stable, just these voices and thoughts get to me.\n",
       "If so, describe it: \n",
       "PHQ-9:\n",
       "Little interest or pleasure in doing things?\n",
       "Feeling down, depressed, or hopeless\n",
       "Trouble falling asleep or staying asleep, or sleeping too much\n",
       "Feeling tired or having little energy\n",
       "Poor appetite or over-eating\n",
       "Feeling bad about yourself \n",
       "Trouble concentrating\n",
       "Moving or speaking very slowly or feeling very fidgety or restless\n",
       "Thoughts that you would be better off dead\n",
       "(Bipolar)Have you ever had an episode of hypomania or mania? No\n",
       "If yes, please describe episode:\n",
       "(Psychosis)Have you ever had a period of time where you felt paranoid or were experiencing hallucinations? Yes\n",
       "If yes, please describe: Yes, definitely. It's the main thing that's been bothering me. I hear voices, different ones, sometimes they're talking to each other, sometimes to me. I can't tell where they're coming from. It's like they're in my head. I know the FBI is out to get me, but I also feel delusional. This has been going on for two years.\n",
       "(GAD) Have you struggled with anxiety for longer than six months? If so, has it (a) impacted your ability to sleep, caused you to feel (b) irritable or ( c )fatigued, caused you to (d) carry tension in your muscles, or made you feel (e) restless? No\n",
       "(OCD) Have you had to do things in a certain way, perform actions a certain number of times, struggle with preoccupations about hygiene, intrusive thoughts, symmetry? No\n",
       "(PTSD) Have you ever experienced something you felt to be especially horrible or traumatic? No\n",
       "If yes, ask: if they are experiencing flashbacks or nightmares, if they are feeling on edge or hyper-vigilant, if they are now avoiding certain locations or activities, and if their mood has significantly worsened because of this.\n",
       "\n",
       "Psychiatric History:\n",
       "Have you received any formal psychiatric diagnoses? Schizophrenia\n",
       "Have you ever been admitted psychiatrically? If yes, when was it and what was the reason for admission? No\n",
       "Have you ever attempted suicide? No\n",
       "Have you taken psychiatric medication in the past? No\n",
       "If so, what medications have you taken? Please specify duration and dose.\n",
       "Do you have an outpatient psychiatrist? No\n",
       "If so, what is their name?\n",
       "Do you have a therapist? No\n",
       "If so, what is their name?\n",
       "\n",
       "Substance Use:\n",
       "Do you use alcohol? No\n",
       "If so, how many drinks per week?\n",
       "Has it ever impacted your life in a negative manner?\n",
       "Have you ever had symptoms of withdrawal?\n",
       "Do you use marijuana? No\n",
       "If so, how much do you use per week?\n",
       "Do you use cocaine? No\n",
       "Do you use heroin? No\n",
       "Do you use any other substances? No\n",
       "\n",
       "Family History\n",
       "Do you have a family history of substance use? No\n",
       "If so, which family member and what did they struggle with?\n",
       "Do you have a family history of suicide? No\n",
       "If so, which family member?\n",
       "Do you have a family history of any psychiatric disorders? Yes\n",
       "If so, which family member and what did they struggle with? Paternal uncle with schizophrenia\n",
       "\n",
       "Social History:\n",
       "Where do you live? Arkansas\n",
       "Who do you live with? No one\n",
       "What do you do for work? Unemployed, left my job two years ago\n",
       "How far did you go in school? High school\n",
       "What are your hobbies? Cardio exercise\n",
       "Are you married? No\n",
       "Do you have children? One\n",
       "Have you ever been arrested? No"
      ],
      "text/plain": [
       "<IPython.core.display.Markdown object>"
      ]
     },
     "metadata": {},
     "output_type": "display_data"
    },
    {
     "data": {
      "text/markdown": [
       "**Q165:** What is the best summary of the following information for a psychiatrist utilizing the information below before an initial intake: Age: 28\n",
       "Name: Warren Mooney\n",
       "Sexual Orientation: Straight\n",
       "Gender Identity: Cis-male\n",
       "\n",
       "Chief Complaint (what brings you in): anxiety \n",
       "\n",
       "(MDD)Have you ever had an episode of depression that lasted longer than two weeks: no\n",
       "If so, describe it:\n",
       "PHQ-9:\n",
       "Little interest or pleasure in doing things?\n",
       "Feeling down, depressed, or hopeless\n",
       "Trouble falling asleep or staying asleep, or sleeping too much\n",
       "Feeling tired or having little energy\n",
       "Poor appetite or over-eating\n",
       "Feeling bad about yourself \n",
       "Trouble concentrating\n",
       "Moving or speaking very slowly or feeling very fidgety or restless\n",
       "Thoughts that you would be better off dead\n",
       "(Bipolar)Have you ever had an episode of hypomania or mania? No\n",
       "\n",
       "If yes, please describe episode:\n",
       "(Psychosis)Have you ever had a period of time where you felt paranoid or were experiencing hallucinations? No\n",
       "If yes, please describe:\n",
       "(GAD) Have you struggled with anxiety for longer than six months? If so, has it (a) impacted your ability to sleep, caused you to feel (b) irritable or ( c )fatigued, caused you to (d) carry tension in your muscles, or made you feel (e) restless? Yes, and it has made it hard to fall asleep and I feel irritated a lot of times.\n",
       "(OCD) Have you had to do things in a certain way, perform actions a certain number of times, struggle with preoccupations about hygiene, intrusive thoughts, symmetry? No\n",
       "(PTSD) Have you ever experienced something you felt to be especially horrible or traumatic? No\n",
       "If yes, ask: if they are experiencing flashbacks or nightmares, if they are feeling on edge or hyper-vigilant, if they are now avoiding certain locations or activities, and if their mood has significantly worsened because of this.\n",
       "\n",
       "Psychiatric History:\n",
       "Have you received any formal diagnoses? Generalized Anxiety Disorder\n",
       "Have you ever been admitted psychiatrically? If yes, when was it and what was the reason for admission? No\n",
       "Have you ever attempted suicide? No\n",
       "Have you taken psychiatric medication in the past? Yes\n",
       "If so, what medications have you taken? Please specify duration and dose. Escitalopram 5mg for two years, then sertraline 100mg for three months\n",
       "Do you have an outpatient psychiatrist? No\n",
       "If so, what is their name?\n",
       "Do you have a therapist? No\n",
       "If so, what is their name?\n",
       "\n",
       "Substance Use:\n",
       "Do you use alcohol? Yes\n",
       "If so, how many drinks per week? 5\n",
       "Has it ever impacted your life in a negative manner? No\n",
       "Have you ever had symptoms of withdrawal? No\n",
       "Do you use marijuana? No\n",
       "If so, how much do you use per week? No \n",
       "Do you use cocaine? No\n",
       "Do you use heroin? No\n",
       "Do you use any other substances? No\n",
       "\n",
       "Family History\n",
       "Do you have a family history of substance use? No\n",
       "If so, which family member and what did they struggle with?\n",
       "Do you have a family history of suicide? No\n",
       "If so, which family member?\n",
       "Do you have a family history of any psychiatric disorders? Yes\n",
       "If so, which family member and what did they struggle with? My mother has anxiety\n",
       "\n",
       "Social History:\n",
       "Where do you live? Downtown Chicago\n",
       "Who do you live with? Alone\n",
       "What do you do for work? Marketing\n",
       "How far did you go in school? Undergraduate \n",
       "What are your hobbies? Running\n",
       "Are you married? No\n",
       "Do you have children? No\n",
       "Have you ever been arrested? No"
      ],
      "text/plain": [
       "<IPython.core.display.Markdown object>"
      ]
     },
     "metadata": {},
     "output_type": "display_data"
    },
    {
     "data": {
      "text/markdown": [
       "**Q166:** What is the best summary of the following information for a psychiatrist utilizing the information below before an initial intake: Age: 37\n",
       "Name: Laurel Khan\n",
       "Sexual Orientation: Straight\n",
       "Gender Identity: Cis-female\n",
       "\n",
       "Chief Complaint (what brings you in): I'm anxious all the time \n",
       "\n",
       "(MDD)Have you ever had an episode of depression that lasted longer than two weeks: No\n",
       "If so, describe it:\n",
       "PHQ-9:\n",
       "Little interest or pleasure in doing things?\n",
       "Feeling down, depressed, or hopeless\n",
       "Trouble falling asleep or staying asleep, or sleeping too much\n",
       "Feeling tired or having little energy\n",
       "Poor appetite or over-eating\n",
       "Feeling bad about yourself \n",
       "Trouble concentrating\n",
       "Moving or speaking very slowly or feeling very fidgety or restless\n",
       "Thoughts that you would be better off dead\n",
       "(Bipolar)Have you ever had an episode of hypomania or mania? No\n",
       "\n",
       "If yes, please describe episode:\n",
       "(Psychosis)Have you ever had a period of time where you felt paranoid or were experiencing hallucinations?\n",
       "If yes, please describe:\n",
       "(GAD) Have you struggled with anxiety for longer than six months? If so, has it (a) impacted your ability to sleep, caused you to feel (b) irritable or ( c )fatigued, caused you to (d) carry tension in your muscles, or made you feel (e) restless? Yes, I am tired all the time and my shoulders are always so tight.\n",
       "(OCD) Have you had to do things in a certain way, perform actions a certain number of times, struggle with preoccupations about hygiene, intrusive thoughts, symmetry? No\n",
       "(PTSD) Have you ever experienced something you felt to be especially horrible or traumatic? No\n",
       "If yes, ask: if they are experiencing flashbacks or nightmares, if they are feeling on edge or hyper-vigilant, if they are now avoiding certain locations or activities, and if their mood has significantly worsened because of this.\n",
       "\n",
       "Psychiatric History:\n",
       "Have you received any formal psychiatric diagnoses? Generalized Anxiety Disorder\n",
       "Have you ever been admitted psychiatrically? No\n",
       "If yes, when was it and what was the reason for admission?\n",
       "Have you ever attempted suicide? No\n",
       "Have you taken psychiatric medication in the past? Yes\n",
       "If so, what medications have you taken? Please specify duration and dose. I am taking Ativan 1mg every day as needed.\n",
       "Do you have an outpatient psychiatrist? No\n",
       "If so, what is their name?\n",
       "Do you have a therapist? Yes\n",
       "If so, what is their name? I don't know\n",
       "\n",
       "Substance Use:\n",
       "Do you use alcohol? No\n",
       "If so, how many drinks per week?\n",
       "Has it ever impacted your life in a negative manner?\n",
       "Have you ever had symptoms of withdrawal?\n",
       "Do you use marijuana? Yes\n",
       "If so, how much do you use per week? I smoke every day.\n",
       "Do you use cocaine? No\n",
       "Do you use heroin? No\n",
       "Do you use any other substances? No\n",
       "\n",
       "Family History\n",
       "Do you have a family history of substance use? Yes\n",
       "If so, which family member and what did they struggle with? My dad drinks a lot\n",
       "Do you have a family history of suicide? No\n",
       "If so, which family member?\n",
       "Do you have a family history of any psychiatric disorders? No\n",
       "If so, which family member and what did they struggle with?\n",
       "\n",
       "Social History:\n",
       "Where do you live? Suburbs\n",
       "Who do you live with? Partner\n",
       "What do you do for work? Nurse\n",
       "How far did you go in school? Master's in nursing\n",
       "What are your hobbies? Movies\n",
       "Are you married? Yes\n",
       "Do you have children? No\n",
       "Have you ever been arrested? No"
      ],
      "text/plain": [
       "<IPython.core.display.Markdown object>"
      ]
     },
     "metadata": {},
     "output_type": "display_data"
    },
    {
     "data": {
      "text/markdown": [
       "**Q167:** What is the best summary of the following information for a psychiatrist utilizing the information below before an initial intake:\n",
       "Age: 82\n",
       "Name: Mildred Stone\n",
       "Sexual Orientation: Straight\n",
       "Gender Identity: Female\n",
       "\n",
       "Chief Complaint (what brings you in): Over the last few years, I have got more and more anxious.\n",
       "\n",
       "(MDD)Have you ever had an episode of depression that lasted longer than two weeks: No\n",
       "If so, describe it:\n",
       "PHQ-9:\n",
       "Little interest or pleasure in doing things?\n",
       "Feeling down, depressed, or hopeless\n",
       "Trouble falling asleep or staying asleep, or sleeping too much\n",
       "Feeling tired or having little energy\n",
       "Poor appetite or over-eating\n",
       "Feeling bad about yourself \n",
       "Trouble concentrating\n",
       "Moving or speaking very slowly or feeling very fidgety or restless\n",
       "Thoughts that you would be better off dead\n",
       "(Bipolar)Have you ever had an episode of hypomania or mania? No\n",
       "\n",
       "If yes, please describe episode:\n",
       "(Psychosis)Have you ever had a period of time where you felt paranoid or were experiencing hallucinations? No\n",
       "If yes, please describe:\n",
       "(GAD) Have you struggled with anxiety for longer than six months? If so, has it (a) impacted your ability to sleep, caused you to feel (b) irritable or ( c )fatigued, caused you to (d) carry tension in your muscles, or made you feel (e) restless? Yes. I have felt more and more anxious over the last couple years. I notice muscle tension, irritability, and fatigue due to the anxiety.\n",
       "(OCD) Have you had to do things in a certain way, perform actions a certain number of times, struggle with preoccupations about hygiene, intrusive thoughts, symmetry? No\n",
       "(PTSD) Have you ever experienced something you felt to be especially horrible or traumatic? No\n",
       "If yes, ask: if they are experiencing flashbacks or nightmares, if they are feeling on edge or hyper-vigilant, if they are now avoiding certain locations or activities, and if their mood has significantly worsened because of this.\n",
       "\n",
       "Psychiatric History:\n",
       "Have you received any formal psychiatric diagnoses? None\n",
       "Have you ever been admitted psychiatrically? No\n",
       "If yes, when was it and what was the reason for admission?\n",
       "Have you ever attempted suicide? No\n",
       "Have you taken psychiatric medication in the past? Yes\n",
       "If so, what medications have you taken? None right now. In my 60s, I took Xanax.\n",
       "Do you have an outpatient psychiatrist? No\n",
       "If so, what is their name?\n",
       "Do you have a therapist? No\n",
       "If so, what is their name? \n",
       "\n",
       "Substance Use:\n",
       "Do you use alcohol? Yes\n",
       "If so, how many drinks per week? One glass of wine\n",
       "Has it ever impacted your life in a negative manner?\n",
       "Have you ever had symptoms of withdrawal?\n",
       "Do you use marijuana? No\n",
       "If so, how much do you use per week? \n",
       "Do you use cocaine? No\n",
       "Do you use heroin? No\n",
       "Do you use any other substances? No\n",
       "\n",
       "Family History\n",
       "Do you have a family history of substance use? No\n",
       "If so, which family member and what did they struggle with? \n",
       "Do you have a family history of suicide? No\n",
       "If so, which family member?\n",
       "Do you have a family history of any psychiatric disorders? No\n",
       "If so, which family member and what did they struggle with?\n",
       "\n",
       "Social History:\n",
       "Where do you live? Chicago\n",
       "Who do you live with? No one\n",
       "What do you do for work? Retired\n",
       "How far did you go in school? Master's\n",
       "What are your hobbies? Cooking\n",
       "Are you married? Widowed\n",
       "Do you have children? Yes, one son\n",
       "Have you ever been arrested? No"
      ],
      "text/plain": [
       "<IPython.core.display.Markdown object>"
      ]
     },
     "metadata": {},
     "output_type": "display_data"
    },
    {
     "data": {
      "text/markdown": [
       "**Q168:** nan"
      ],
      "text/plain": [
       "<IPython.core.display.Markdown object>"
      ]
     },
     "metadata": {},
     "output_type": "display_data"
    },
    {
     "data": {
      "text/markdown": [
       "**Q169:** A four-year-old child presents to an outpatient psychiatrist for an intake with his adoptive mother. On evaluation, he runs to the psychiatrist and hugs him, and refuses to step away when asked. He continued to touch and hug the psychiatrist throughout the interview. His mother noted that he has always been this way, and that she often has worried that he would run off with a stranger. During the evaluation, his adoptive mother reported that he has a history of significant physical and emotional neglect from birth to six months from his biological parents, and was placed in foster care at six months with her. She adopted him at age 1.5, but had to give up custody to another family for about six months when he was 2 due to a significant medical illness. He was placed back with her at age 3 and adopted at age 4. She brought him to a psychiatrist due to concerns about anger outbursts and hyperactivity at home. What is an accurate, succinct summary of the case that would be useful to a psychiatrist?"
      ],
      "text/plain": [
       "<IPython.core.display.Markdown object>"
      ]
     },
     "metadata": {},
     "output_type": "display_data"
    },
    {
     "data": {
      "text/markdown": [
       "**Q170:** During an evaluation with a psychiatrist, a 16-year-old discloses that he is sexually active with his boyfriend. He reports that his parents don't know that he is gay and is very fearful that they will find out. What is an accurate, succinct, and clinically appropriate way to document this information that is useful to a psychiatrist?"
      ],
      "text/plain": [
       "<IPython.core.display.Markdown object>"
      ]
     },
     "metadata": {},
     "output_type": "display_data"
    },
    {
     "data": {
      "text/markdown": [
       "**Q171:** During an intake on the inpatient child and adolescent psychiatry unit, a fourteen-year-old transgender boy reports that his stepfather sexually assaulted him when he was eight. He reports that his mother knows about the assault, but never did anything about it. Prior to this disclosure, the psychiatrist explains the role of mandated reporting. The patient is tearful discussing this disclosure and notes that his stepfather lives with him and his mother. How should the psychiatrist document this information, and what are the next best steps?"
      ],
      "text/plain": [
       "<IPython.core.display.Markdown object>"
      ]
     },
     "metadata": {},
     "output_type": "display_data"
    },
    {
     "data": {
      "text/markdown": [
       "**Q172:** nan"
      ],
      "text/plain": [
       "<IPython.core.display.Markdown object>"
      ]
     },
     "metadata": {},
     "output_type": "display_data"
    },
    {
     "data": {
      "text/markdown": [
       "**Q173:** nan"
      ],
      "text/plain": [
       "<IPython.core.display.Markdown object>"
      ]
     },
     "metadata": {},
     "output_type": "display_data"
    },
    {
     "data": {
      "text/markdown": [
       "**Q174:** A patient reports that he misses his aripiprazole about three times a week because he forgets it when he goes to work during the evening most of the time. What is an accurate, succinct, and clinically appropriate way to document this information that is useful to a psychiatrist?"
      ],
      "text/plain": [
       "<IPython.core.display.Markdown object>"
      ]
     },
     "metadata": {},
     "output_type": "display_data"
    },
    {
     "data": {
      "text/markdown": [
       "**Q175:** An outpatient psychiatrist recommends starting sertraline 25 mg daily to her patient. The patient reports depressed mood, anhedonia, low energy, increased sleep, and a sense of hopelessness for the past 4 weeks. This is the first time this has happened.\" What is an accurate, succinct, and clinically appropriate way to document this information that is useful to a psychiatrist?"
      ],
      "text/plain": [
       "<IPython.core.display.Markdown object>"
      ]
     },
     "metadata": {},
     "output_type": "display_data"
    },
    {
     "data": {
      "text/markdown": [
       "**Q176:** A 47-year-old father of three sons presents to an outpatient psychiatrist for an intake for anxiety. On evaluation, he reports recurrent and persistent worries that he is going to run over one of his children when he backs his car out of the driveway. He spends about 1 hour checking that the driveway is clear and that his children are a safe distance from the car when he leaves the house. He has started becoming late for work due to his routine, and this is interfering in his relationship with his supervisor and his wife. He came to the psychiatrist because he is not sure what else to do, and his primary care doctor suggested it. He has a history of similar, recurrent fears that he would hurt someone when driving, but it has never interfered with his life in this way before and got worse once his youngest son started walking. What is an accurate, succinct, and clinically appropriate way to document this information that is useful to a psychiatrist?"
      ],
      "text/plain": [
       "<IPython.core.display.Markdown object>"
      ]
     },
     "metadata": {},
     "output_type": "display_data"
    },
    {
     "data": {
      "text/markdown": [
       "**Q177:** A fifty-year-old male presents to a psychiatrist after referral from his primary care provider for mood concerns. On evaluation, he reports worsening mood, low energy, lack of pleasure or enjoyment in things he used to like to do, increased sleep, and irritability for the past two months. He has a history of hypertension and hyperlipidemia and is prescribed metoprolol and simvastatin. He has never experienced a depressed mood before and is typically a happy person. He is diagnosed with major depressive disorder, but he declines to start medication at this time and preferred to initiate therapy only. After two follow-up appointments over the course of the next two months, the psychiatrist learns that he has been resistant to treating his medical conditions with medications, but his husband was worried about his hypertension because he had a history of heart disease in his family. After some thought, the patient recalls that he started his metoprolol and simvastatin about two weeks before he started feeling sad. What is an accurate, succinct, and clinically appropriate way to document this information that is useful to a psychiatrist?"
      ],
      "text/plain": [
       "<IPython.core.display.Markdown object>"
      ]
     },
     "metadata": {},
     "output_type": "display_data"
    },
    {
     "data": {
      "text/markdown": [
       "**Q178:** A <AGE> <NAT> man is brought to the office by his mother. The patient's mother notes that over the last 10 months her son has become more anxious and suspicious of others. Prior to this he was a straight A student and exceling in his university classes. His roommate reported that over the last 6 months, the patient has become increasingly isolated and \"wouldn't leave his room for many days on end\". After returning home, the patient remains isolated and was found responding to himself when he thought others weren't around. On exam, he is found to be disheveled, malodorous, with disorganized thought process, flat affect, and frequently pauses during the exam and looks off into the distance. What is the most likely diagnosis?"
      ],
      "text/plain": [
       "<IPython.core.display.Markdown object>"
      ]
     },
     "metadata": {},
     "output_type": "display_data"
    },
    {
     "data": {
      "text/markdown": [
       "**Q179:** A <AGE> <NAT> male is brought to the ED by police and accompanied by his father. He reports that over the last three weeks his son has become very distant and has been acting strangely. His father then notes that he has witnessed him whispering to herself and had made comments to him about following the devil's orders. His psychiatric history is significant for several episodes of major depressive disorder (most recent documented episode 4 months ago and now resolved). What is the most likely diagnosis?"
      ],
      "text/plain": [
       "<IPython.core.display.Markdown object>"
      ]
     },
     "metadata": {},
     "output_type": "display_data"
    },
    {
     "data": {
      "text/markdown": [
       "**Q180:** A <AGE> <NAT> patient presents to his PCP for an annual checkup. He appears nervous during the interview and reports that over the last two months he has had thoughts about harming his dog. He notes that these thoughts are very disturbing and that he has no desire to harm his dog. He has begun to isolate himself from his dog and has found himself making excuses for avoiding all interactions with the dog. He believes that something is wrong with him, worries how others will perceive him if he discusses the thoughts, and doesn't know how to talk to his family about the thoughts. What is the most likely diagnosis?"
      ],
      "text/plain": [
       "<IPython.core.display.Markdown object>"
      ]
     },
     "metadata": {},
     "output_type": "display_data"
    },
    {
     "data": {
      "text/markdown": [
       "**Q181:** A <AGE> <NAT> man presents to the doctor's office for an annual checkup. During the exam, he reports that he has had increased difficulty focusing at work over the last 7-8 months. When he is asked more about work he reports that he was promoted 9 months ago and since that time has felt increased stress, as well as difficulty falling asleep, waking up feeling tired, and increased irritability. He reports that his symptoms have become worse with stress in his relationship, geopolitical events, and concerns about bird flu. What is the most likely diagnosis?"
      ],
      "text/plain": [
       "<IPython.core.display.Markdown object>"
      ]
     },
     "metadata": {},
     "output_type": "display_data"
    },
    {
     "data": {
      "text/markdown": [
       "**Q182:** A <AGE> <NAT> male patient is seen in the office for an intake. He reports that over the last three months he has had difficulty with day-to-day life and that this began after he learned a co-worker was sexually assaulted by another colleague. Since that time, he has had nightmares related to a sexual assault he experienced while in the military, occasional flashbacks, increased anxiety, and reports that he will occasionally be triggered by loud noises in the environment. What is the most likely diagnosis?"
      ],
      "text/plain": [
       "<IPython.core.display.Markdown object>"
      ]
     },
     "metadata": {},
     "output_type": "display_data"
    },
    {
     "data": {
      "text/markdown": [
       "**Q183:** A <AGE> <NAT> married male with a past medical history of migraines presents to the office with his wife for an intake. During the interview, the patient's wife reports that the patient has been acting erratic over the last several weeks, specifically noting that her husband doesn't seem to sleep, has been talking very quickly, and has had strange ideas regarding \"a special job\". She notes that this escalated when the patient booked an overseas trip without consulting partner as \"I have to go, it's a really important job that I was picked for.\" During the evaluation the patient is difficult to interrupt and is tangential. His past psychiatric history is significant for a previous suicide attempt and subsequent hospitalization. What is the most likely diagnosis?"
      ],
      "text/plain": [
       "<IPython.core.display.Markdown object>"
      ]
     },
     "metadata": {},
     "output_type": "display_data"
    },
    {
     "data": {
      "text/markdown": [
       "**Q184:** A <AGE> <NAT> male and his wife present to the office for an intake appointment. His wife reports that over the last several months her husband has become infatuated with an actress. The patient then states that he began a relationship with the actress after \"we connected online….but she can't say it publicly because it'll create problems\". He reports that she communicates with him through Instagram messages, specifically that she'll leave subtle messages for him in her Instagram posts. Recently, he purchased a ticket to Los Angeles so that he could be with her. His wife then comments that when she has confronted him about the relationship, her husband becomes upset and withdraws from any conversation. Of note, the patient works as a banker and this has not impacted his work or other relationships. Which of the following is the most likely diagnosis?"
      ],
      "text/plain": [
       "<IPython.core.display.Markdown object>"
      ]
     },
     "metadata": {},
     "output_type": "display_data"
    },
    {
     "data": {
      "text/markdown": [
       "**Q185:** A <AGE> <NAT> male was fired from his job 1 month ago. On interview he expresses disappointment at losing his job and states, \"It hasn't been great, I don't really feel too good about myself\". Since he lost his job he notes that he has had decreased motivation and \"I've really let myself go\". He has continued to apply for other jobs but hasn't gotten any interviews in the past month. He expresses frustration regarding not finding another job and notes that he is concerned about how he will manage his finances and home expectations. He has no suicidal thoughts/intent. Which of the following criteria will help differentiate the diagnosis of adjustment disorder from major depressive disorder for the case described above?"
      ],
      "text/plain": [
       "<IPython.core.display.Markdown object>"
      ]
     },
     "metadata": {},
     "output_type": "display_data"
    },
    {
     "data": {
      "text/markdown": [
       "**Q186:** A <AGE> <NAT> patient presents to the student clinic for an annual check up. They report that over the last three months they've had difficulty in class and have been feeling \"low\" and having difficulties falling and staying asleep. On further discussion they report that they've had decreased appetite, energy, and concentration. They were previously training for an international gaming competition but feel that they have no energy or motivation to participate anymore. What is the most likely diagnosis?"
      ],
      "text/plain": [
       "<IPython.core.display.Markdown object>"
      ]
     },
     "metadata": {},
     "output_type": "display_data"
    },
    {
     "data": {
      "text/markdown": [
       "**Q187:** A <AGE> <NAT> male presents to the ED after being found unconscious in front of his apartment building. The man is somnolent and had difficulty engaging in the interview. Of note his speech is slurred, and he had difficulty maintaining his attention during the interview.  He is admitted to the medicine floor for further workup. On the third day of his hospitalization he begins to report that he has bugs crawling on him and that there are several people watching him in his room. His vital signs become unstable and his HR and blood pressure are elevated. You determine that the patient is in withdrawal. His withdrawal symptoms are most consistent with which of the following?"
      ],
      "text/plain": [
       "<IPython.core.display.Markdown object>"
      ]
     },
     "metadata": {},
     "output_type": "display_data"
    },
    {
     "data": {
      "text/markdown": [
       "**Q188:** A <AGE> <NAT> male is seen in the office after family members have become concerned about \"strange behavior\". His father reports that over the last year the patient's behavior has become more bizarre, specifically that he has become paranoid regarding the intents of others, increasingly withdrawn and isolated from others, and is apathetic about most things. During the evaluation, the patient is noted to be guarded and anxious, and often pauses the interview to state, \"I'm really concerned about them listening to what we are discussing\". When you ask him to elaborate on this, he begins to whisper to himself and expresses concern regarding his safety. After gathering more information about the patient, you recommend starting him on Olanzapine for his condition. What lab should you order prior to starting and monitor for during his treatment?"
      ],
      "text/plain": [
       "<IPython.core.display.Markdown object>"
      ]
     },
     "metadata": {},
     "output_type": "display_data"
    },
    {
     "data": {
      "text/markdown": [
       "**Q189:** A <AGE> <NAT> male has been diagnosed with schizophrenia and trialed on risperidone and aripiprazole with minimal effect on his symptoms. You discuss the case with the patient and his family and recommend that he start clozapine for management of his psychotic symptoms. The patient and his family are agreeable and you advise them that he will require weekly blood draws for the next several months. The weekly blood draws are used to monitor for which side effect associated with clozapine?"
      ],
      "text/plain": [
       "<IPython.core.display.Markdown object>"
      ]
     },
     "metadata": {},
     "output_type": "display_data"
    },
    {
     "data": {
      "text/markdown": [
       "**Q190:** A <AGE> <NAT> male is brought into the ED by police after he attempted to break into a bank after hours. On initial evaluation he is found to be tangential, hyperverbal, and distractable. When you discuss the incident for which the police are called, the patient reports, \"I'm on a mission, I have to save the world….I needed to get money to complete the mission\". Shortly after he becomes agitated, and a PRN is needed to sedate him. You consider different medication options and conclude lithium will be the best medication treatment for this patient after acute stabilization. When considering long term treatment with Lithium for this patient, what lithium plasma levels should be targeted?"
      ],
      "text/plain": [
       "<IPython.core.display.Markdown object>"
      ]
     },
     "metadata": {},
     "output_type": "display_data"
    },
    {
     "data": {
      "text/markdown": [
       "**Q191:** A <AGE> <NAT> male was admitted to the inpatient psychiatry unit 3 weeks ago after he was found to be in a manic state. Shortly after the start of his hospitalization, the patient was started on Depakote and his dose was titrated up and his symptoms of mania continued to improve. Earlier in the week the patient began to report increased fatigue and today he was found to be altered with nausea/vomiting, and myoclonus. Labs were ordered and his Depakote level was found to be 150 mcg/mL. A rapid response was called, and the patient was transferred to the MICU. What is considered a therapeutic level for Depakote?"
      ],
      "text/plain": [
       "<IPython.core.display.Markdown object>"
      ]
     },
     "metadata": {},
     "output_type": "display_data"
    },
    {
     "data": {
      "text/markdown": [
       "**Q192:** A <AGE> <NAT> male is admitted to the inpatient psychiatry unit after he was found threatening joggers in a local park. On chart review, he was previously diagnosed with schizophrenia and has had multiple hospitalizations and medication trials with antipsychotics. The team discusses his case and after he is stabilized, clozapine is discussed with the patient. He is hesitant to agree and reports that his friend was previously trialed on clozapine and had a seizure.  At what plasma levels is there increased risk for seizure with Clozapine?"
      ],
      "text/plain": [
       "<IPython.core.display.Markdown object>"
      ]
     },
     "metadata": {},
     "output_type": "display_data"
    },
    {
     "data": {
      "text/markdown": [
       "**Q193:** nan"
      ],
      "text/plain": [
       "<IPython.core.display.Markdown object>"
      ]
     },
     "metadata": {},
     "output_type": "display_data"
    },
    {
     "data": {
      "text/markdown": [
       "**Q194:** A <AGE> <NAT> male was admitted to the inpatient psychiatry unit after being brought in by their parents for bizarre behavior. During their hospitalization, the patient became agitated multiple times and was given several PRNs. Additionally, during their hospitalization they were started on multiple psychotropic medications including Depakote, Thorazine, and Lithium. On discussion during team rounds the team pharmacist expresses concern regarding platelet counts and drug interactions.  Which of the following platelet counts would be concerning for an individual receiving the medications above?"
      ],
      "text/plain": [
       "<IPython.core.display.Markdown object>"
      ]
     },
     "metadata": {},
     "output_type": "display_data"
    },
    {
     "data": {
      "text/markdown": [
       "**Q195:** A 78-year-old <NAT> male presents to the ED after he became agitated at the nursing home. On discussion with the nursing home staff, the patient was previously doing well and over the last several days has become acutely more confused and agitated. As you continue workup for causes of delirium, the patient becomes agitated, and nursing asks for PRN recommendations. The team discusses his case, and it is determined that a PRN antipsychotic should be used for agitation. Of note the patient has a history of cardiac arrythmia. Which of the following should be monitored when considering a PRN antipsychotic for acute agitation for this patient?"
      ],
      "text/plain": [
       "<IPython.core.display.Markdown object>"
      ]
     },
     "metadata": {},
     "output_type": "display_data"
    },
    {
     "data": {
      "text/markdown": [
       "**Q196:** An 86-year-old <NAT> male presents to the ED after his caretakers reports that he has become more confused over the last several days and report a concern for a recent seizure. On evaluation the patient appears to be disoriented to person, place, and situation. A delirium workup is started by the team. Of note the patient has no significant past medical history and was recently started on sertraline within the past week. For elderly patients started on an SSRI which lab value should be monitored for changes?"
      ],
      "text/plain": [
       "<IPython.core.display.Markdown object>"
      ]
     },
     "metadata": {},
     "output_type": "display_data"
    },
    {
     "data": {
      "text/markdown": [
       "**Q197:** A <AGE> <NAT> patient presents to the behavioral wellness center for an intake. They report that over the last two months they've had increasing difficulty at school after their partner of two years broke up with them. They report that they've felt more fatigued over the last three weeks, have not been able to get a good night's sleep, and have had difficulty concentrating in class. When you ask about appetite and activities, they report that they've lost 10 pounds since their breakup and were previously training for a marathon but no longer feel motivated to compete. They deny thoughts of self-harm at this time. Which of the following is the best first line treatment for the patient described above?"
      ],
      "text/plain": [
       "<IPython.core.display.Markdown object>"
      ]
     },
     "metadata": {},
     "output_type": "display_data"
    },
    {
     "data": {
      "text/markdown": [
       "**Q198:** A <AGE> <NAT> male presents to the outpatient office to discuss his depression and medication management. He reports that he was started on sertraline by his previous psychiatrist several months ago for management of his depression and has had a positive response. When you ask about side effects, he reports that he is embarrassed that he has had difficulty maintaining an erection with his partner and would like to know if there are other medications he can try. What medication change do you recommend for his symptoms?"
      ],
      "text/plain": [
       "<IPython.core.display.Markdown object>"
      ]
     },
     "metadata": {},
     "output_type": "display_data"
    },
    {
     "data": {
      "text/markdown": [
       "**Q199:** A <AGE> <NAT> man is admitted to the MICU after he developed a fever and seizure. On discussion with the family, they report that over the last few days he had increased episodes of nausea, vomiting, and diarrhea and over the last twenty four hours began to complain of increased muscle rigidity. When asked about recent changes/stressors, they report that the only change they are aware of was a recent change from one antidepressant to sertraline over the last week. On physical exam the patient is noted to have hyperreflexia, clonus, increased bowel sounds, fluctuations of his blood pressure and pulse, and hyperthermia. Which medication was the patient likely taking before this hospitalization?"
      ],
      "text/plain": [
       "<IPython.core.display.Markdown object>"
      ]
     },
     "metadata": {},
     "output_type": "display_data"
    },
    {
     "data": {
      "text/markdown": [
       "**Q200:** A <AGE> <NAT> male patient is admitted to the inpatient psychiatry unit after concern for an episode of psychosis. The patient has no previous psychiatric admissions and has not been trialed on an antipsychotic previously. During the interview with the patient, you find that his medical history is unremarkable and that he has had several similar episodes over the last 10 months. When use of substances is discussed, he reports that he smokes 2-3 packs of cigarettes per day and uses no other substances. You discuss treatment options with the patient and determine that an antipsychotic should be started. Which of the following medications is least affected by smoking cigarettes?"
      ],
      "text/plain": [
       "<IPython.core.display.Markdown object>"
      ]
     },
     "metadata": {},
     "output_type": "display_data"
    },
    {
     "data": {
      "text/markdown": [
       "**Q201:** A <AGE> <NAT> male presents to the ED after being brought in by his mother, who reports that her son has become increasingly paranoid over the last year, and she became concerned when he started threatening his younger brother who the patient believes, \"is trying to sabotage me with the devil\". After evaluation, it is determined that the patient meets criteria for an inpatient hospitalization and medication trial. After discussion with the rest of the Psychiatry team, the decision is made to start Abilify. What is the mechanism of this medication for treating psychosis?"
      ],
      "text/plain": [
       "<IPython.core.display.Markdown object>"
      ]
     },
     "metadata": {},
     "output_type": "display_data"
    },
    {
     "data": {
      "text/markdown": [
       "**Q202:** nan"
      ],
      "text/plain": [
       "<IPython.core.display.Markdown object>"
      ]
     },
     "metadata": {},
     "output_type": "display_data"
    },
    {
     "data": {
      "text/markdown": [
       "**Q203:** A <AGE> <NAT> male presents to the ED after being brought in by police after exhibiting bizarre behavior in public. On interview with the patient, he is noted to have slurred speech, slowed responses, and difficulty concentrating throughout the interview. On physical exam the patient is noted to have nystagmus and is unable to maintain their balance. You order several labs including a blood alcohol which is later found to be 250 mg/dl. The patient is admitted to the floor for further monitoring and to receive IV fluids. Several hours later the patient becomes agitated and is found to be hypertensive and tachycardic. What medication should be given to the patient given their new onset symptoms?"
      ],
      "text/plain": [
       "<IPython.core.display.Markdown object>"
      ]
     },
     "metadata": {},
     "output_type": "display_data"
    }
   ],
   "source": [
    "from IPython.display import display, Markdown\n",
    "\n",
    "# Loop through each question and display the male text as a markdown paragraph\n",
    "for i in range(len(df)):\n",
    "    text = df.loc[i, \"text_male\"]\n",
    "    display(Markdown(f\"**Q{i}:** {text}\"))"
   ]
  },
  {
   "cell_type": "code",
   "execution_count": null,
   "id": "d7746440",
   "metadata": {},
   "outputs": [],
   "source": []
  }
 ],
 "metadata": {
  "kernelspec": {
   "display_name": "Python 3",
   "language": "python",
   "name": "python3"
  },
  "language_info": {
   "codemirror_mode": {
    "name": "ipython",
    "version": 3
   },
   "file_extension": ".py",
   "mimetype": "text/x-python",
   "name": "python",
   "nbconvert_exporter": "python",
   "pygments_lexer": "ipython3",
   "version": "3.12.1"
  }
 },
 "nbformat": 4,
 "nbformat_minor": 5
}
